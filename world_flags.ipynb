{
 "cells": [
  {
   "cell_type": "markdown",
   "metadata": {},
   "source": [
    "# Flags of the World\n",
    "\n",
    "This is an ongoing personal project to code all the flags of the World using [Joy](https://github.com/fossunited/joy), a tiny creative coding library in Python.\n",
    "\n",
    "## Sources\n",
    "\n",
    "* Joy: a tiny creative coding library in python by [FOSS United Foundation](https://github.com/fossunited). Find out more about it here <https://github.com/fossunited/joy>.\n",
    "* List of World Flags: <https://www.worldometers.info/geography/flags-of-the-world/>.\n",
    "* Hex color codes for the flags: <https://www.flagcolorcodes.com/>.\n",
    "* Additional info on flags(design, history, etc): <https://en.wikipedia.org/wiki/Gallery_of_sovereign_state_flags>.\n",
    "* SVG Path Editor: There were some complex shapes(emblems, coat of arms, etc) which could not be rendered using the set of shapes available in Joy. Hence used an online tool to create and manipulate SVG paths <https://yqnn.github.io/svg-path-editor/>.\n",
    "\n",
    "## Status\n",
    "\n",
    "This is an ongoing project. There are a few flags which have been partially completed. So, for easy reference, I have used the following status field:\n",
    "\n",
    "* Completed - which means done obviously (lol).\n",
    "* WIP - Work In Progress.\n",
    "***"
   ]
  },
  {
   "cell_type": "markdown",
   "metadata": {},
   "source": [
    "# Import"
   ]
  },
  {
   "cell_type": "code",
   "execution_count": 46,
   "metadata": {},
   "outputs": [],
   "source": [
    "from joy import *"
   ]
  },
  {
   "cell_type": "markdown",
   "metadata": {},
   "source": [
    "# 1) Republic of India"
   ]
  },
  {
   "cell_type": "code",
   "execution_count": 47,
   "metadata": {},
   "outputs": [
    {
     "data": {
      "image/svg+xml": "<svg width=\"300\" height=\"300\" viewBox=\"-150 -150 300 300\" fill=\"none\" stroke=\"black\" xmlns=\"http://www.w3.org/2000/svg\" xmlns:xlink=\"http://www.w3.org/1999/xlink\">\n<g transform=\"scale(1 -1)\">\n  <rect x=\"-150.0\" y=\"-150.0\" width=\"300\" height=\"300\" stroke=\"#ddd\" />\n  <line x1=\"-150\" y1=\"0\" x2=\"150\" y2=\"0\" stroke=\"#ddd\" />\n  <line x1=\"0\" y1=\"-150\" x2=\"0\" y2=\"150\" stroke=\"#ddd\" />\n  <g>\n    <g>\n      <g>\n        <g>\n          <g>\n            <g>\n              <rect x=\"-150.0\" y=\"50.0\" width=\"300\" height=\"100\" fill=\"#FF9933\" stroke=\"none\" />\n              <rect x=\"-150.0\" y=\"-50.0\" width=\"300\" height=\"100\" fill=\"#FFFFFF\" stroke=\"none\" />\n            </g>\n            <rect x=\"-150.0\" y=\"-150.0\" width=\"300\" height=\"100\" fill=\"#138808\" stroke=\"none\" />\n          </g>\n          <circle cx=\"0\" cy=\"0\" r=\"41\" stroke=\"#000080\" stroke-width=\"4\" />\n        </g>\n        <circle cx=\"0\" cy=\"0\" r=\"7\" fill=\"#000080\" stroke=\"none\" />\n      </g>\n      <g>\n        <defs>\n          <line x1=\"0\" y1=\"41\" x2=\"0\" y2=\"-41\" fill=\"#000080\" stroke-width=\"2\" id=\"s-26-4CUz\" />\n        </defs>\n        <g>\n          <use xlink:href=\"#s-26-4CUz\" />\n          <g transform=\"rotate(15)\">\n            <use xlink:href=\"#s-26-4CUz\" />\n            <g transform=\"rotate(15)\">\n              <use xlink:href=\"#s-26-4CUz\" />\n              <g transform=\"rotate(15)\">\n                <use xlink:href=\"#s-26-4CUz\" />\n                <g transform=\"rotate(15)\">\n                  <use xlink:href=\"#s-26-4CUz\" />\n                  <g transform=\"rotate(15)\">\n                    <use xlink:href=\"#s-26-4CUz\" />\n                    <g transform=\"rotate(15)\">\n                      <use xlink:href=\"#s-26-4CUz\" />\n                      <g transform=\"rotate(15)\">\n                        <use xlink:href=\"#s-26-4CUz\" />\n                        <g transform=\"rotate(15)\">\n                          <use xlink:href=\"#s-26-4CUz\" />\n                          <g transform=\"rotate(15)\">\n                            <use xlink:href=\"#s-26-4CUz\" />\n                            <g transform=\"rotate(15)\">\n                              <use xlink:href=\"#s-26-4CUz\" />\n                              <g transform=\"rotate(15)\">\n                                <use xlink:href=\"#s-26-4CUz\" />\n                                <g transform=\"rotate(15)\">\n                                  <use xlink:href=\"#s-26-4CUz\" />\n                                  <g transform=\"rotate(15)\">\n                                    <use xlink:href=\"#s-26-4CUz\" />\n                                    <g transform=\"rotate(15)\">\n                                      <use xlink:href=\"#s-26-4CUz\" />\n                                      <g transform=\"rotate(15)\">\n                                        <use xlink:href=\"#s-26-4CUz\" />\n                                        <g transform=\"rotate(15)\">\n                                          <use xlink:href=\"#s-26-4CUz\" />\n                                          <g transform=\"rotate(15)\">\n                                            <use xlink:href=\"#s-26-4CUz\" />\n                                            <g transform=\"rotate(15)\">\n                                              <use xlink:href=\"#s-26-4CUz\" />\n                                              <g transform=\"rotate(15)\">\n                                                <use xlink:href=\"#s-26-4CUz\" />\n                                                <g transform=\"rotate(15)\">\n                                                  <use xlink:href=\"#s-26-4CUz\" />\n                                                  <g transform=\"rotate(15)\">\n                                                    <use xlink:href=\"#s-26-4CUz\" />\n                                                    <g transform=\"rotate(15)\">\n                                                      <use xlink:href=\"#s-26-4CUz\" />\n                                                      <use xlink:href=\"#s-26-4CUz\" transform=\"rotate(15)\" />\n                                                    </g>\n                                                  </g>\n                                                </g>\n                                              </g>\n                                            </g>\n                                          </g>\n                                        </g>\n                                      </g>\n                                    </g>\n                                  </g>\n                                </g>\n                              </g>\n                            </g>\n                          </g>\n                        </g>\n                      </g>\n                    </g>\n                  </g>\n                </g>\n              </g>\n            </g>\n          </g>\n        </g>\n      </g>\n    </g>\n    <g>\n      <defs>\n        <circle cx=\"5\" cy=\"39\" r=\"3\" fill=\"#000080\" stroke=\"none\" id=\"s-27-4CUz\" />\n      </defs>\n      <g>\n        <use xlink:href=\"#s-27-4CUz\" />\n        <g transform=\"rotate(15)\">\n          <use xlink:href=\"#s-27-4CUz\" />\n          <g transform=\"rotate(15)\">\n            <use xlink:href=\"#s-27-4CUz\" />\n            <g transform=\"rotate(15)\">\n              <use xlink:href=\"#s-27-4CUz\" />\n              <g transform=\"rotate(15)\">\n                <use xlink:href=\"#s-27-4CUz\" />\n                <g transform=\"rotate(15)\">\n                  <use xlink:href=\"#s-27-4CUz\" />\n                  <g transform=\"rotate(15)\">\n                    <use xlink:href=\"#s-27-4CUz\" />\n                    <g transform=\"rotate(15)\">\n                      <use xlink:href=\"#s-27-4CUz\" />\n                      <g transform=\"rotate(15)\">\n                        <use xlink:href=\"#s-27-4CUz\" />\n                        <g transform=\"rotate(15)\">\n                          <use xlink:href=\"#s-27-4CUz\" />\n                          <g transform=\"rotate(15)\">\n                            <use xlink:href=\"#s-27-4CUz\" />\n                            <g transform=\"rotate(15)\">\n                              <use xlink:href=\"#s-27-4CUz\" />\n                              <g transform=\"rotate(15)\">\n                                <use xlink:href=\"#s-27-4CUz\" />\n                                <g transform=\"rotate(15)\">\n                                  <use xlink:href=\"#s-27-4CUz\" />\n                                  <g transform=\"rotate(15)\">\n                                    <use xlink:href=\"#s-27-4CUz\" />\n                                    <g transform=\"rotate(15)\">\n                                      <use xlink:href=\"#s-27-4CUz\" />\n                                      <g transform=\"rotate(15)\">\n                                        <use xlink:href=\"#s-27-4CUz\" />\n                                        <g transform=\"rotate(15)\">\n                                          <use xlink:href=\"#s-27-4CUz\" />\n                                          <g transform=\"rotate(15)\">\n                                            <use xlink:href=\"#s-27-4CUz\" />\n                                            <g transform=\"rotate(15)\">\n                                              <use xlink:href=\"#s-27-4CUz\" />\n                                              <g transform=\"rotate(15)\">\n                                                <use xlink:href=\"#s-27-4CUz\" />\n                                                <g transform=\"rotate(15)\">\n                                                  <use xlink:href=\"#s-27-4CUz\" />\n                                                  <g transform=\"rotate(15)\">\n                                                    <use xlink:href=\"#s-27-4CUz\" />\n                                                    <use xlink:href=\"#s-27-4CUz\" transform=\"rotate(15)\" />\n                                                  </g>\n                                                </g>\n                                              </g>\n                                            </g>\n                                          </g>\n                                        </g>\n                                      </g>\n                                    </g>\n                                  </g>\n                                </g>\n                              </g>\n                            </g>\n                          </g>\n                        </g>\n                      </g>\n                    </g>\n                  </g>\n                </g>\n              </g>\n            </g>\n          </g>\n        </g>\n      </g>\n    </g>\n  </g>\n</g>\n</svg>\n",
      "text/plain": [
       "SVG:{self.nodes}"
      ]
     },
     "metadata": {},
     "output_type": "display_data"
    }
   ],
   "source": [
    "#Country: Republic of India\n",
    "#Description: Representing Indian Flag.\n",
    "#version: 1.0.0\n",
    "#Status: Completed\n",
    "\n",
    "#Co-ordinates for the lines.\n",
    "x1,y1 = 0,41\n",
    "x2,y2 = 0,-41\n",
    "\n",
    "#Individual components of the Indian flag.\n",
    "saffron_rectangle = rectangle(y=100,w=300, h=100, fill=\"#FF9933\",stroke=\"none\")\n",
    "white_rectangle = rectangle(w=300, h=100, fill=\"#FFFFFF\",stroke=\"none\")\n",
    "green_rectangle = rectangle(y=-100,w=300, h=100, fill=\"#138808\",stroke=\"none\")\n",
    "outer_circle = circle(r=41, stroke=\"#000080\", stroke_width=4)\n",
    "inner_circle = circle(r=7, fill=\"#000080\", stroke=\"none\")\n",
    "spokes = line(x1,y1,x2,y2, fill=\"#000080\", stroke_width=2) | repeat(24, rotate(15))\n",
    "semi_circles = circle(x=5,y=39,r=3,fill=\"#000080\",stroke=\"none\") | repeat(24, rotate(15))\n",
    "\n",
    "#combine all the various shapes and assign them to a single variable.\n",
    "indian_flag = saffron_rectangle + white_rectangle + green_rectangle + outer_circle + inner_circle + spokes + semi_circles\n",
    "\n",
    "#display the indian flag.\n",
    "show(indian_flag)"
   ]
  },
  {
   "cell_type": "markdown",
   "metadata": {},
   "source": [
    "# 2) Islamic Republic of Afghanistan"
   ]
  },
  {
   "cell_type": "code",
   "execution_count": 48,
   "metadata": {},
   "outputs": [
    {
     "data": {
      "image/svg+xml": "<svg width=\"300\" height=\"300\" viewBox=\"-150 -150 300 300\" fill=\"none\" stroke=\"black\" xmlns=\"http://www.w3.org/2000/svg\" xmlns:xlink=\"http://www.w3.org/1999/xlink\">\n<g transform=\"scale(1 -1)\">\n  <rect x=\"-150.0\" y=\"-150.0\" width=\"300\" height=\"300\" stroke=\"#ddd\" />\n  <line x1=\"-150\" y1=\"0\" x2=\"150\" y2=\"0\" stroke=\"#ddd\" />\n  <line x1=\"0\" y1=\"-150\" x2=\"0\" y2=\"150\" stroke=\"#ddd\" />\n  <g>\n    <g>\n      <rect x=\"-150.0\" y=\"-150.0\" width=\"100\" height=\"300\" fill=\"#000000\" stroke=\"none\" />\n      <rect x=\"-50.0\" y=\"-150.0\" width=\"100\" height=\"300\" fill=\"#d32011\" stroke=\"none\" />\n    </g>\n    <rect x=\"50.0\" y=\"-150.0\" width=\"100\" height=\"300\" fill=\"#007a36\" stroke=\"none\" />\n  </g>\n</g>\n</svg>\n",
      "text/plain": [
       "SVG:{self.nodes}"
      ]
     },
     "metadata": {},
     "output_type": "display_data"
    }
   ],
   "source": [
    "#Country: Islamic Emirate of Afghanistan\n",
    "#Description: Representing Afghanistan Flag.\n",
    "#version: 1.0.0\n",
    "#Status: WIP\n",
    "#Comments: Taliban has outlawed the below tricolor after it's takeover of the country. However internationally, the tricolor has been recognized and is also used by resistance movements.\n",
    "\n",
    "#Individual components of the Afghanistan flag.\n",
    "black_rectangle = rectangle(x=-100,w=100, h=300, fill=\"#000000\",stroke=\"none\")\n",
    "red_rectangle = rectangle(w=100, h=300, fill=\"#d32011\",stroke=\"none\")\n",
    "green_rectangle = rectangle(x=100,w=100, h=300, fill=\"#007a36\",stroke=\"none\")\n",
    "\n",
    "#combine all the various shapes and assign them to a single variable.\n",
    "afghanistan_flag = black_rectangle + red_rectangle + green_rectangle\n",
    "\n",
    "#display the flag.\n",
    "show(afghanistan_flag)"
   ]
  },
  {
   "cell_type": "markdown",
   "metadata": {},
   "source": [
    "# 3) Republic of Albania"
   ]
  },
  {
   "cell_type": "code",
   "execution_count": 49,
   "metadata": {},
   "outputs": [
    {
     "data": {
      "image/svg+xml": "<svg width=\"300\" height=\"300\" viewBox=\"-150 -150 300 300\" fill=\"none\" stroke=\"black\" xmlns=\"http://www.w3.org/2000/svg\" xmlns:xlink=\"http://www.w3.org/1999/xlink\">\n<g transform=\"scale(1 -1)\">\n  <rect x=\"-150.0\" y=\"-150.0\" width=\"300\" height=\"300\" stroke=\"#ddd\" />\n  <line x1=\"-150\" y1=\"0\" x2=\"150\" y2=\"0\" stroke=\"#ddd\" />\n  <line x1=\"0\" y1=\"-150\" x2=\"0\" y2=\"150\" stroke=\"#ddd\" />\n  <rect x=\"-150.0\" y=\"-150.0\" width=\"300\" height=\"300\" fill=\"#DA291C\" stroke=\"none\" />\n</g>\n</svg>\n",
      "text/plain": [
       "SVG:{self.nodes}"
      ]
     },
     "metadata": {},
     "output_type": "display_data"
    }
   ],
   "source": [
    "#Country: Republic of Albania\n",
    "#Description: Representing Albanian Flag.\n",
    "#version: 1.0.0\n",
    "#Status: WIP\n",
    "#Comments: The symbol or the state emblem is difficult to replicate. Needs time.\n",
    "\n",
    "#Individual components of the Albanian flag.\n",
    "red_base = rectangle(w=300, h=300, fill=\"#DA291C\",stroke=\"none\")\n",
    "\n",
    "\n",
    "#combine all the various shapes and assign them to a single variable.\n",
    "albanian_flag = red_base\n",
    "\n",
    "#display the flag.\n",
    "show(albanian_flag)"
   ]
  },
  {
   "cell_type": "markdown",
   "metadata": {},
   "source": [
    "# 4) People's Democratic Republic of Algeria"
   ]
  },
  {
   "cell_type": "code",
   "execution_count": 50,
   "metadata": {},
   "outputs": [
    {
     "data": {
      "image/svg+xml": "<svg width=\"300\" height=\"300\" viewBox=\"-150 -150 300 300\" fill=\"none\" stroke=\"black\" xmlns=\"http://www.w3.org/2000/svg\" xmlns:xlink=\"http://www.w3.org/1999/xlink\">\n<g transform=\"scale(1 -1)\">\n  <rect x=\"-150.0\" y=\"-150.0\" width=\"300\" height=\"300\" stroke=\"#ddd\" />\n  <line x1=\"-150\" y1=\"0\" x2=\"150\" y2=\"0\" stroke=\"#ddd\" />\n  <line x1=\"0\" y1=\"-150\" x2=\"0\" y2=\"150\" stroke=\"#ddd\" />\n  <g>\n    <g>\n      <g>\n        <g>\n          <rect x=\"-150.0\" y=\"-150.0\" width=\"300\" height=\"300\" fill=\"#000000\" />\n          <rect x=\"-149.5\" y=\"-149.5\" width=\"149\" height=\"299\" fill=\"#006633\" stroke=\"none\" />\n        </g>\n        <rect x=\"0.5\" y=\"-149.5\" width=\"149\" height=\"299\" fill=\"#FFFFFF\" stroke=\"none\" />\n      </g>\n      <path d=\"M56-66C1-139-134-117-136 0-134 118 1 146 59 65-6 116-95 92-97 0-92-91-11-113 56-66\" fill=\"#D21034\" stroke=\"none\" transform=\"scale(0.6 0.6)\" />\n    </g>\n    <g transform=\"rotate(-18.5) translate(23.5 9)\">\n      <defs>\n        <polygon points=\"0,30 -10,0 10,0\" fill=\"#D21034\" stroke=\"none\" id=\"s-28-4CUz\" />\n      </defs>\n      <g>\n        <use xlink:href=\"#s-28-4CUz\" />\n        <g transform=\"rotate(72)\">\n          <use xlink:href=\"#s-28-4CUz\" />\n          <g transform=\"rotate(72)\">\n            <use xlink:href=\"#s-28-4CUz\" />\n            <g transform=\"rotate(72)\">\n              <use xlink:href=\"#s-28-4CUz\" />\n              <use xlink:href=\"#s-28-4CUz\" transform=\"rotate(72)\" />\n            </g>\n          </g>\n        </g>\n      </g>\n    </g>\n  </g>\n</g>\n</svg>\n",
      "text/plain": [
       "SVG:{self.nodes}"
      ]
     },
     "metadata": {},
     "output_type": "display_data"
    }
   ],
   "source": [
    "#Country: People's Democratic Republic of Algeria\n",
    "#Description: Representing Algerian Flag.\n",
    "#version: 1.0.0\n",
    "#Status: Completed.\n",
    "#Comments: Used svg path editor online for some of the custom shapes at https://yqnn.github.io/svg-path-editor/ \n",
    "\n",
    "#Co-ordinate points for the star\n",
    "p1 = point(x=0,y=30)\n",
    "p2 = point(x=-10,y=0)\n",
    "p3 = point(x=10,y=0)\n",
    "\n",
    "#Individual components of the Algerian flag.\n",
    "base_color = rectangle(w=300,h=300, fill=\"#000000\")\n",
    "green_rectangle = rectangle(x=-75,w=149, h=299, fill=\"#006633\",stroke=\"none\")\n",
    "white_rectangle = rectangle(x=75,w=149,h=299, fill=\"#FFFFFF\",stroke=\"none\")\n",
    "base_flag_colors = base_color + green_rectangle + white_rectangle\n",
    "crescent_moon = Shape(\"path\", d=\"M56-66C1-139-134-117-136 0-134 118 1 146 59 65-6 116-95 92-97 0-92-91-11-113 56-66\", fill=\"#D21034\", stroke=\"none\") |scale(0.6)\n",
    "\n",
    "#star\n",
    "triangle = polygon([p1,p2,p3], fill=\"#D21034\", stroke=\"none\") |repeat(5, rotate(72)) |translate(x=23.5, y=9)\n",
    "star = triangle |rotate(-18.5)\n",
    "\n",
    "#combine all the various shapes and assign them to a single variable.\n",
    "algerian_flag = base_flag_colors + crescent_moon + star\n",
    "\n",
    "#display the flag.\n",
    "show(algerian_flag)"
   ]
  },
  {
   "cell_type": "markdown",
   "metadata": {},
   "source": [
    "# 5) Principality of Andorra"
   ]
  },
  {
   "cell_type": "code",
   "execution_count": 51,
   "metadata": {},
   "outputs": [
    {
     "data": {
      "image/svg+xml": "<svg width=\"300\" height=\"300\" viewBox=\"-150 -150 300 300\" fill=\"none\" stroke=\"black\" xmlns=\"http://www.w3.org/2000/svg\" xmlns:xlink=\"http://www.w3.org/1999/xlink\">\n<g transform=\"scale(1 -1)\">\n  <rect x=\"-150.0\" y=\"-150.0\" width=\"300\" height=\"300\" stroke=\"#ddd\" />\n  <line x1=\"-150\" y1=\"0\" x2=\"150\" y2=\"0\" stroke=\"#ddd\" />\n  <line x1=\"0\" y1=\"-150\" x2=\"0\" y2=\"150\" stroke=\"#ddd\" />\n  <g>\n    <g>\n      <rect x=\"-150.0\" y=\"-150.0\" width=\"100\" height=\"300\" fill=\"#0018A8\" stroke=\"none\" />\n      <rect x=\"-50.0\" y=\"-150.0\" width=\"100\" height=\"300\" fill=\"#FEDF00\" stroke=\"none\" />\n    </g>\n    <rect x=\"50.0\" y=\"-150.0\" width=\"100\" height=\"300\" fill=\"#D52B1E\" stroke=\"none\" />\n  </g>\n</g>\n</svg>\n",
      "text/plain": [
       "SVG:{self.nodes}"
      ]
     },
     "metadata": {},
     "output_type": "display_data"
    }
   ],
   "source": [
    "#Country: Principality of Andorra\n",
    "#Description: Representing Andorran Flag.\n",
    "#version: 1.0.0\n",
    "#Status: WIP\n",
    "#Comments: State emblem hard to replicate.\n",
    "\n",
    "#Individual components of the Andorran flag.\n",
    "blue_rectangle = rectangle(x=-100,w=100, h=300, fill=\"#0018A8\",stroke=\"none\")\n",
    "yellow_rectangle = rectangle(w=100, h=300, fill=\"#FEDF00\",stroke=\"none\")\n",
    "red_rectangle = rectangle(x=100,w=100, h=300, fill=\"#D52B1E\",stroke=\"none\")\n",
    "\n",
    "#combine all the various shapes and assign them to a single variable.\n",
    "andorran_flag = blue_rectangle + yellow_rectangle + red_rectangle\n",
    "\n",
    "#display the flag.\n",
    "show(andorran_flag)"
   ]
  },
  {
   "cell_type": "markdown",
   "metadata": {},
   "source": [
    "# 6) Republic of Angola"
   ]
  },
  {
   "cell_type": "code",
   "execution_count": 52,
   "metadata": {},
   "outputs": [
    {
     "data": {
      "image/svg+xml": "<svg width=\"300\" height=\"300\" viewBox=\"-150 -150 300 300\" fill=\"none\" stroke=\"black\" xmlns=\"http://www.w3.org/2000/svg\" xmlns:xlink=\"http://www.w3.org/1999/xlink\">\n<g transform=\"scale(1 -1)\">\n  <rect x=\"-150.0\" y=\"-150.0\" width=\"300\" height=\"300\" stroke=\"#ddd\" />\n  <line x1=\"-150\" y1=\"0\" x2=\"150\" y2=\"0\" stroke=\"#ddd\" />\n  <line x1=\"0\" y1=\"-150\" x2=\"0\" y2=\"150\" stroke=\"#ddd\" />\n  <g>\n    <g>\n      <g>\n        <g>\n          <g>\n            <g>\n              <g>\n                <g>\n                  <g>\n                    <rect x=\"-150.0\" y=\"0.0\" width=\"300\" height=\"150\" fill=\"#C8102E\" stroke=\"none\" />\n                    <rect x=\"-150.0\" y=\"-150.0\" width=\"300\" height=\"150\" fill=\"#000000\" stroke=\"none\" />\n                  </g>\n                  <g>\n                    <circle cx=\"0\" cy=\"0\" r=\"50\" stroke=\"#FFCD00\" stroke-width=\"9\" />\n                    <g transform=\"scale(0.99 0.99)\">\n                      <defs>\n                        <rect x=\"-2.0\" y=\"47.0\" width=\"14\" height=\"12\" fill=\"#FFCD00\" stroke=\"none\" id=\"s-29-4CUz\" />\n                      </defs>\n                      <g>\n                        <use xlink:href=\"#s-29-4CUz\" />\n                        <g transform=\"rotate(30)\">\n                          <use xlink:href=\"#s-29-4CUz\" />\n                          <g transform=\"rotate(30)\">\n                            <use xlink:href=\"#s-29-4CUz\" />\n                            <g transform=\"rotate(30)\">\n                              <use xlink:href=\"#s-29-4CUz\" />\n                              <g transform=\"rotate(30)\">\n                                <use xlink:href=\"#s-29-4CUz\" />\n                                <g transform=\"rotate(30)\">\n                                  <use xlink:href=\"#s-29-4CUz\" />\n                                  <g transform=\"rotate(30)\">\n                                    <use xlink:href=\"#s-29-4CUz\" />\n                                    <g transform=\"rotate(30)\">\n                                      <use xlink:href=\"#s-29-4CUz\" />\n                                      <g transform=\"rotate(30)\">\n                                        <use xlink:href=\"#s-29-4CUz\" />\n                                        <g transform=\"rotate(30)\">\n                                          <use xlink:href=\"#s-29-4CUz\" />\n                                          <g transform=\"rotate(30)\">\n                                            <use xlink:href=\"#s-29-4CUz\" />\n                                            <g transform=\"rotate(30)\">\n                                              <use xlink:href=\"#s-29-4CUz\" />\n                                              <g transform=\"rotate(30)\">\n                                                <use xlink:href=\"#s-29-4CUz\" />\n                                                <g transform=\"rotate(30)\">\n                                                  <use xlink:href=\"#s-29-4CUz\" />\n                                                  <use xlink:href=\"#s-29-4CUz\" transform=\"rotate(30)\" />\n                                                </g>\n                                              </g>\n                                            </g>\n                                          </g>\n                                        </g>\n                                      </g>\n                                    </g>\n                                  </g>\n                                </g>\n                              </g>\n                            </g>\n                          </g>\n                        </g>\n                      </g>\n                    </g>\n                  </g>\n                </g>\n                <rect x=\"-146.0\" y=\"0.0\" width=\"142\" height=\"150\" fill=\"#C8102E\" stroke=\"none\" />\n              </g>\n              <rect x=\"-150.0\" y=\"-32.0\" width=\"150\" height=\"32\" fill=\"#000000\" stroke=\"none\" />\n            </g>\n            <rect x=\"-17.5\" y=\"-29.0\" width=\"95\" height=\"18\" fill=\"#000000\" stroke=\"none\" transform=\"rotate(328)\" />\n          </g>\n          <g>\n            <g>\n              <rect x=\"-35.0\" y=\"-25.5\" width=\"110\" height=\"11\" fill=\"#FFCD00\" stroke=\"none\" transform=\"rotate(328)\" />\n              <g transform=\"translate(-2 2)\">\n                <rect x=\"81.0\" y=\"-27.0\" width=\"20\" height=\"10\" fill=\"#FFCD00\" stroke=\"none\" transform=\"rotate(329)\" />\n                <ellipse cx=\"0\" cy=\"0\" rx=\"50.0\" ry=\"40.0\" fill=\"#FFCD00\" stroke=\"none\" transform=\"translate(76 -74) rotate(300) scale(0.17 0.17)\" />\n              </g>\n            </g>\n            <circle cx=\"0\" cy=\"0\" r=\"100\" fill=\"#FFCD00\" stroke=\"none\" transform=\"translate(-35 6) scale(0.12 0.12)\" />\n          </g>\n        </g>\n        <circle cx=\"0\" cy=\"0\" r=\"100\" fill=\"#C8102E\" stroke=\"none\" transform=\"translate(-23 11.5) scale(0.12 0.12)\" />\n      </g>\n      <g transform=\"translate(0 20) scale(0.7 0.7)\">\n        <defs>\n          <polygon points=\"0,30 -10,0 10,0\" fill=\"#FFCD00\" stroke=\"none\" id=\"s-30-4CUz\" />\n        </defs>\n        <g>\n          <use xlink:href=\"#s-30-4CUz\" />\n          <g transform=\"rotate(72)\">\n            <use xlink:href=\"#s-30-4CUz\" />\n            <g transform=\"rotate(72)\">\n              <use xlink:href=\"#s-30-4CUz\" />\n              <g transform=\"rotate(72)\">\n                <use xlink:href=\"#s-30-4CUz\" />\n                <use xlink:href=\"#s-30-4CUz\" transform=\"rotate(72)\" />\n              </g>\n            </g>\n          </g>\n        </g>\n      </g>\n    </g>\n    <line x1=\"-100\" y1=\"0\" x2=\"100\" y2=\"0\" stroke-width=\"5\" transform=\"translate(24 -35) scale(0.4 0.4) rotate(329.5)\" />\n  </g>\n</g>\n</svg>\n",
      "text/plain": [
       "SVG:{self.nodes}"
      ]
     },
     "metadata": {},
     "output_type": "display_data"
    }
   ],
   "source": [
    "#Country: Republic of Angola\n",
    "#Description: Representing Angolan Flag.\n",
    "#version: 1.0.0\n",
    "#Status: Completed\n",
    "#Comments: Need to arrange the code neatly.\n",
    "\n",
    "#Co-ordinate points for the star.\n",
    "p1 = point(x=0,y=30)\n",
    "p2 = point(x=-10,y=0)\n",
    "p3 = point(x=10,y=0)\n",
    "\n",
    "#Masking - adding colored background masks to cover extra portions or parts of shapes that are not needed.\n",
    "red_upper_mask = rectangle(x=-75,y=75,w=142, h=150, fill=\"#C8102E\",stroke=\"none\")\n",
    "black_lower_mask = rectangle(x=-75,y=-16,w=150, h=32, fill=\"#000000\",stroke=\"none\")\n",
    "black_sword_mask = rectangle(x=30,y=-20,w=95, h=18, fill=\"#000000\",stroke=\"none\") | rotate(328)\n",
    "sword_tip_red_circle_mask = circle(fill=\"#C8102E\", stroke=\"none\") |scale(0.12) |translate(-23,11.5)\n",
    "\n",
    "#Individual components of the Angolan flag.\n",
    "red_rectangle = rectangle(y=75,w=300, h=150, fill=\"#C8102E\",stroke=\"none\")\n",
    "black_rectangle = rectangle(y=-75,w=300, h=150, fill=\"#000000\",stroke=\"none\")\n",
    "\n",
    "#base flag color\n",
    "base_flag_color = red_rectangle + black_rectangle\n",
    "\n",
    "#yellow emblem outer circle\n",
    "yellow_circle = circle(r=50, stroke=\"#FFCD00\", stroke_width=9)\n",
    "yellow_ridge = rectangle(x=5,y=53,w=14,h=12,fill=\"#FFCD00\",stroke=\"none\") | repeat(15, rotate(30)) | scale(0.99)\n",
    "yellow_circle_emblem = yellow_circle + yellow_ridge\n",
    "\n",
    "#components of the sword emblem.\n",
    "yellow_sword_rectangle = rectangle(x=20,y=-20,w=110, h=11,fill=\"#FFCD00\",stroke=\"none\") | rotate(328)\n",
    "yellow_sword_handle_rectangle = rectangle(x=91,y=-22,w=20, h=10,fill=\"#FFCD00\",stroke=\"none\") | rotate(329)\n",
    "yellow_sword_handle_knob = ellipse(w=100,h=80,fill=\"#FFCD00\", stroke=\"none\") |scale(0.17) | rotate(300) | translate(x=76,y=-74)\n",
    "\n",
    "#yellow sword handle components combined\n",
    "yellow_sword_handle = yellow_sword_handle_rectangle + yellow_sword_handle_knob | translate(-2,2)\n",
    "yellow_sword_tip_circle = circle(fill=\"#FFCD00\", stroke=\"none\") |scale(0.12) |translate(-35,6)\n",
    "\n",
    "#yellow_sword components combined\n",
    "yellow_sword = yellow_sword_rectangle + yellow_sword_handle + yellow_sword_tip_circle\n",
    "\n",
    "#yellow star\n",
    "triangle = polygon([p1,p2,p3], fill=\"#FFCD00\", stroke=\"none\") |repeat(5, rotate(72)) \n",
    "star = triangle |scale(0.7) |translate(0,20)\n",
    "\n",
    "#black lining on the sword\n",
    "sword_line = line(stroke_width=5) | rotate(329.5) | scale(0.4) |translate(24,-35)\n",
    "\n",
    "#combine all the various shapes and assign them to a single variable.\n",
    "angolan_flag = base_flag_color + yellow_circle_emblem + red_upper_mask + black_lower_mask + black_sword_mask + yellow_sword + sword_tip_red_circle_mask + star + sword_line\n",
    "\n",
    "#display the flag.\n",
    "show(angolan_flag)"
   ]
  },
  {
   "cell_type": "markdown",
   "metadata": {},
   "source": [
    "# 7) Antigua and Barbuda"
   ]
  },
  {
   "cell_type": "code",
   "execution_count": 53,
   "metadata": {},
   "outputs": [
    {
     "data": {
      "image/svg+xml": "<svg width=\"300\" height=\"300\" viewBox=\"-150 -150 300 300\" fill=\"none\" stroke=\"black\" xmlns=\"http://www.w3.org/2000/svg\" xmlns:xlink=\"http://www.w3.org/1999/xlink\">\n<g transform=\"scale(1 -1)\">\n  <rect x=\"-150.0\" y=\"-150.0\" width=\"300\" height=\"300\" stroke=\"#ddd\" />\n  <line x1=\"-150\" y1=\"0\" x2=\"150\" y2=\"0\" stroke=\"#ddd\" />\n  <line x1=\"0\" y1=\"-150\" x2=\"0\" y2=\"150\" stroke=\"#ddd\" />\n  <g>\n    <g>\n      <g>\n        <g>\n          <rect x=\"-150.0\" y=\"-150.0\" width=\"300\" height=\"300\" fill=\"#000000\" stroke=\"none\" />\n          <g transform=\"translate(0 75) scale(2 2)\">\n            <defs>\n              <polygon points=\"0,30 -10,0 10,0\" fill=\"#FFD100\" stroke=\"none\" id=\"s-31-4CUz\" />\n            </defs>\n            <g>\n              <use xlink:href=\"#s-31-4CUz\" />\n              <g transform=\"rotate(25.7)\">\n                <use xlink:href=\"#s-31-4CUz\" />\n                <g transform=\"rotate(25.7)\">\n                  <use xlink:href=\"#s-31-4CUz\" />\n                  <g transform=\"rotate(25.7)\">\n                    <use xlink:href=\"#s-31-4CUz\" />\n                    <g transform=\"rotate(25.7)\">\n                      <use xlink:href=\"#s-31-4CUz\" />\n                      <g transform=\"rotate(25.7)\">\n                        <use xlink:href=\"#s-31-4CUz\" />\n                        <g transform=\"rotate(25.7)\">\n                          <use xlink:href=\"#s-31-4CUz\" />\n                          <g transform=\"rotate(25.7)\">\n                            <use xlink:href=\"#s-31-4CUz\" />\n                            <g transform=\"rotate(25.7)\">\n                              <use xlink:href=\"#s-31-4CUz\" />\n                              <g transform=\"rotate(25.7)\">\n                                <use xlink:href=\"#s-31-4CUz\" />\n                                <g transform=\"rotate(25.7)\">\n                                  <use xlink:href=\"#s-31-4CUz\" />\n                                  <g transform=\"rotate(25.7)\">\n                                    <use xlink:href=\"#s-31-4CUz\" />\n                                    <g transform=\"rotate(25.7)\">\n                                      <use xlink:href=\"#s-31-4CUz\" />\n                                      <use xlink:href=\"#s-31-4CUz\" transform=\"rotate(25.7)\" />\n                                    </g>\n                                  </g>\n                                </g>\n                              </g>\n                            </g>\n                          </g>\n                        </g>\n                      </g>\n                    </g>\n                  </g>\n                </g>\n              </g>\n            </g>\n          </g>\n        </g>\n        <rect x=\"-150.0\" y=\"-137.5\" width=\"300\" height=\"200\" fill=\"#005EB8\" stroke=\"none\" />\n      </g>\n      <rect x=\"-150.0\" y=\"-150.0\" width=\"300\" height=\"150\" fill=\"#FFFFFF\" stroke=\"none\" />\n    </g>\n    <g>\n      <polygon points=\"-150,150 -150,-150 0,-150\" fill=\"#EF3340\" stroke=\"none\" />\n      <polygon points=\"-150,150 -150,-150 0,-150\" fill=\"#EF3340\" stroke=\"none\" transform=\"scale(-1 1)\" />\n    </g>\n  </g>\n</g>\n</svg>\n",
      "text/plain": [
       "SVG:{self.nodes}"
      ]
     },
     "metadata": {},
     "output_type": "display_data"
    }
   ],
   "source": [
    "#Country: Antigua and Barbuda\n",
    "#Description: Representing Antigua and Barbuda Flag.\n",
    "#version: 1.0.0\n",
    "#Status: Completed\n",
    "#Comments: \n",
    "\n",
    "#Co-ordinate points for the star.\n",
    "p1 = point(x=0,y=30)\n",
    "p2 = point(x=-10,y=0)\n",
    "p3 = point(x=10,y=0)\n",
    "\n",
    "#Co-ordinate points for the red right-angled triangles.\n",
    "p4 = point(x=-150,y=150)\n",
    "p5 = point(x=-150,y=-150)\n",
    "p6 = point(x=0,y=-150)\n",
    "\n",
    "#Individual components of the Antigua and Barbuda flag.\n",
    "black_rectangle = rectangle(w=300, h=300, fill=\"#000000\",stroke=\"none\")\n",
    "blue_rectangle = rectangle(x=0,y=-37.5,w=300,h=200, fill=\"#005EB8\",stroke=\"none\")\n",
    "white_rectangle = rectangle(x=0,y=-75,w=300,h=150, fill=\"#FFFFFF\",stroke=\"none\")\n",
    "\n",
    "#star component.\n",
    "triangle = polygon([p1,p2,p3], fill=\"#FFD100\", stroke=\"none\") |repeat(14, rotate(25.7)) \n",
    "star = triangle | scale(2) | translate(0,75)\n",
    "\n",
    "#red right-angle triangles.\n",
    "left_red_triangle = polygon([p4,p5,p6], fill=\"#EF3340\", stroke=\"none\")\n",
    "right_red_triangle = left_red_triangle | scale(x=-1)\n",
    "red_triangles = left_red_triangle + right_red_triangle\n",
    "\n",
    "\n",
    "#combine all the various shapes and assign them to a single variable.\n",
    "ant_bar_flag = black_rectangle + star + blue_rectangle + white_rectangle + red_triangles\n",
    "\n",
    "#display the flag.\n",
    "show(ant_bar_flag)"
   ]
  },
  {
   "cell_type": "markdown",
   "metadata": {},
   "source": [
    "# 8) Argentine Republic"
   ]
  },
  {
   "cell_type": "code",
   "execution_count": 54,
   "metadata": {},
   "outputs": [
    {
     "data": {
      "image/svg+xml": "<svg width=\"300\" height=\"300\" viewBox=\"-150 -150 300 300\" fill=\"none\" stroke=\"black\" xmlns=\"http://www.w3.org/2000/svg\" xmlns:xlink=\"http://www.w3.org/1999/xlink\">\n<g transform=\"scale(1 -1)\">\n  <rect x=\"-150.0\" y=\"-150.0\" width=\"300\" height=\"300\" stroke=\"#ddd\" />\n  <line x1=\"-150\" y1=\"0\" x2=\"150\" y2=\"0\" stroke=\"#ddd\" />\n  <line x1=\"0\" y1=\"-150\" x2=\"0\" y2=\"150\" stroke=\"#ddd\" />\n  <g>\n    <g>\n      <g>\n        <g>\n          <g>\n            <g>\n              <g>\n                <g>\n                  <g>\n                    <rect x=\"-150.0\" y=\"-150.0\" width=\"300\" height=\"300\" fill=\"#6CACE4\" stroke=\"none\" />\n                    <rect x=\"-150.0\" y=\"-50.0\" width=\"300\" height=\"100\" fill=\"#FFFFFF\" stroke=\"none\" />\n                  </g>\n                  <circle cx=\"0\" cy=\"0\" r=\"20\" fill=\"#FFB81C\" stroke=\"#7D4016\" />\n                </g>\n                <g>\n                  <defs>\n                    <polygon points=\"0,45 -1.5,20 1.5,20\" fill=\"#FFB81C\" stroke=\"#7D4016\" id=\"s-32-4CUz\" />\n                  </defs>\n                  <g>\n                    <use xlink:href=\"#s-32-4CUz\" />\n                    <g transform=\"rotate(22.6)\">\n                      <use xlink:href=\"#s-32-4CUz\" />\n                      <g transform=\"rotate(22.6)\">\n                        <use xlink:href=\"#s-32-4CUz\" />\n                        <g transform=\"rotate(22.6)\">\n                          <use xlink:href=\"#s-32-4CUz\" />\n                          <g transform=\"rotate(22.6)\">\n                            <use xlink:href=\"#s-32-4CUz\" />\n                            <g transform=\"rotate(22.6)\">\n                              <use xlink:href=\"#s-32-4CUz\" />\n                              <g transform=\"rotate(22.6)\">\n                                <use xlink:href=\"#s-32-4CUz\" />\n                                <g transform=\"rotate(22.6)\">\n                                  <use xlink:href=\"#s-32-4CUz\" />\n                                  <g transform=\"rotate(22.6)\">\n                                    <use xlink:href=\"#s-32-4CUz\" />\n                                    <g transform=\"rotate(22.6)\">\n                                      <use xlink:href=\"#s-32-4CUz\" />\n                                      <g transform=\"rotate(22.6)\">\n                                        <use xlink:href=\"#s-32-4CUz\" />\n                                        <g transform=\"rotate(22.6)\">\n                                          <use xlink:href=\"#s-32-4CUz\" />\n                                          <g transform=\"rotate(22.6)\">\n                                            <use xlink:href=\"#s-32-4CUz\" />\n                                            <g transform=\"rotate(22.6)\">\n                                              <use xlink:href=\"#s-32-4CUz\" />\n                                              <g transform=\"rotate(22.6)\">\n                                                <use xlink:href=\"#s-32-4CUz\" />\n                                                <use xlink:href=\"#s-32-4CUz\" transform=\"rotate(22.6)\" />\n                                              </g>\n                                            </g>\n                                          </g>\n                                        </g>\n                                      </g>\n                                    </g>\n                                  </g>\n                                </g>\n                              </g>\n                            </g>\n                          </g>\n                        </g>\n                      </g>\n                    </g>\n                  </g>\n                </g>\n              </g>\n              <g>\n                <defs>\n                  <path d=\"M1 0-1 0C-2-4-2-9-1-12 0-14 0-15-1-17-2-19-2-21 0-24-1-21-1-19 0-17 1-15 1-14 0-12-1-9 0-4 1 0\" stroke=\"#7D4016\" fill=\"#FFB81C\" id=\"s-33-4CUz\" transform=\"rotate(11.3) translate(0 20) scale(1 -1) scale(1.08 1.08)\" />\n                </defs>\n                <g>\n                  <use xlink:href=\"#s-33-4CUz\" />\n                  <g transform=\"rotate(22.6)\">\n                    <use xlink:href=\"#s-33-4CUz\" />\n                    <g transform=\"rotate(22.6)\">\n                      <use xlink:href=\"#s-33-4CUz\" />\n                      <g transform=\"rotate(22.6)\">\n                        <use xlink:href=\"#s-33-4CUz\" />\n                        <g transform=\"rotate(22.6)\">\n                          <use xlink:href=\"#s-33-4CUz\" />\n                          <g transform=\"rotate(22.6)\">\n                            <use xlink:href=\"#s-33-4CUz\" />\n                            <g transform=\"rotate(22.6)\">\n                              <use xlink:href=\"#s-33-4CUz\" />\n                              <g transform=\"rotate(22.6)\">\n                                <use xlink:href=\"#s-33-4CUz\" />\n                                <g transform=\"rotate(22.6)\">\n                                  <use xlink:href=\"#s-33-4CUz\" />\n                                  <g transform=\"rotate(22.6)\">\n                                    <use xlink:href=\"#s-33-4CUz\" />\n                                    <g transform=\"rotate(22.6)\">\n                                      <use xlink:href=\"#s-33-4CUz\" />\n                                      <g transform=\"rotate(22.6)\">\n                                        <use xlink:href=\"#s-33-4CUz\" />\n                                        <g transform=\"rotate(22.6)\">\n                                          <use xlink:href=\"#s-33-4CUz\" />\n                                          <g transform=\"rotate(22.6)\">\n                                            <use xlink:href=\"#s-33-4CUz\" />\n                                            <g transform=\"rotate(22.6)\">\n                                              <use xlink:href=\"#s-33-4CUz\" />\n                                              <use xlink:href=\"#s-33-4CUz\" transform=\"rotate(22.6)\" />\n                                            </g>\n                                          </g>\n                                        </g>\n                                      </g>\n                                    </g>\n                                  </g>\n                                </g>\n                              </g>\n                            </g>\n                          </g>\n                        </g>\n                      </g>\n                    </g>\n                  </g>\n                </g>\n              </g>\n            </g>\n            <g>\n              <g transform=\"translate(7.5 0)\">\n                <ellipse cx=\"0\" cy=\"0\" rx=\"4.0\" ry=\"2.0\" stroke=\"#7D4016\" />\n                <circle cx=\"0\" cy=\"0\" r=\"2\" stroke=\"none\" fill=\"#7D4016\" />\n              </g>\n              <g transform=\"scale(-1 1) translate(7.5 0)\">\n                <ellipse cx=\"0\" cy=\"0\" rx=\"4.0\" ry=\"2.0\" stroke=\"#7D4016\" />\n                <circle cx=\"0\" cy=\"0\" r=\"2\" stroke=\"none\" fill=\"#7D4016\" />\n              </g>\n            </g>\n          </g>\n          <g>\n            <path d=\"M-5 0C-1 2 1 2 5 0\" stroke=\"#7D4016\" stroke-width=\"1.2\" transform=\"scale(1.1 1.1) translate(6.5 3)\" />\n            <path d=\"M-5 0C-1 2 1 2 5 0\" stroke=\"#7D4016\" stroke-width=\"1.2\" transform=\"scale(-1 1) scale(1.1 1.1) translate(6.5 3)\" />\n          </g>\n        </g>\n        <g>\n          <g>\n            <path d=\"M-5 0C-1 2 1 2 5 0\" stroke=\"#7D4016\" stroke-width=\"0.8\" transform=\"translate(2.5 -1) rotate(90)\" />\n            <path d=\"M-5 0C-1 2 1 2 5 0\" stroke=\"#7D4016\" stroke-width=\"0.8\" transform=\"scale(-1 1) translate(2.5 -1) rotate(90)\" />\n          </g>\n          <path d=\"M-5-1C-5 1-4 1-3 0-1 1 1 1 3 0 4 1 5 1 5-1\" stroke=\"#7D4016\" stroke-width=\"2\" transform=\"scale(0.7 0.7) translate(0 -11) rotate(180)\" />\n        </g>\n      </g>\n      <ellipse cx=\"0\" cy=\"0\" rx=\"3.5\" ry=\"1.0\" stroke=\"#7D4016\" transform=\"translate(0 -11)\" />\n    </g>\n    <path d=\"M-2 0C-1 3 1 3 2 0\" stroke=\"#7D4016\" transform=\"translate(0 -15.5)\" />\n  </g>\n</g>\n</svg>\n",
      "text/plain": [
       "SVG:{self.nodes}"
      ]
     },
     "metadata": {},
     "output_type": "display_data"
    }
   ],
   "source": [
    "#Country: Argentine Republic\n",
    "#Description: Representing Argentina Flag.\n",
    "#version: 1.0.0\n",
    "#Status: Completed\n",
    "#Comments: Used svg path editor online for some of the custom shapes at https://yqnn.github.io/svg-path-editor/ \n",
    "\n",
    "#Co-ordinate points for the sun spokes.\n",
    "p1 = point(x=0,y=45)\n",
    "p2 = point(x=-1.5,y=20)\n",
    "p3 = point(x=1.5,y=20)\n",
    "\n",
    "#Individual components of the Argentina flag.\n",
    "sky_blue_rectangle = rectangle(w=300, h=300, fill=\"#6CACE4\",stroke=\"none\")\n",
    "white_rectangle = rectangle(w=300, h=100, fill=\"#FFFFFF\",stroke=\"none\")\n",
    "base_flag_color = sky_blue_rectangle + white_rectangle\n",
    "\n",
    "#Sun emblem.\n",
    "yellow_circle = circle(r=20, fill=\"#FFB81C\", stroke=\"#7D4016\")\n",
    "#Sun spokes.\n",
    "ray_triangle = polygon([p1,p2,p3], fill=\"#FFB81C\", stroke=\"#7D4016\") | repeat(16, rotate(22.6))\n",
    "#Sun curvy rays\n",
    "ray_curve = Shape(\"path\",d=\"M1 0-1 0C-2-4-2-9-1-12 0-14 0-15-1-17-2-19-2-21 0-24-1-21-1-19 0-17 1-15 1-14 0-12-1-9 0-4 1 0\", stroke=\"#7D4016\", fill=\"#FFB81C\") | scale(1.08) |scale(y=-1) |translate(x=0,y=20) |rotate(11.3) |repeat(16, rotate(22.6))\n",
    "\n",
    "#Sun face features.\n",
    "#Sun eye\n",
    "eye_ellipse = ellipse(w=8,h=4,stroke=\"#7D4016\") \n",
    "eye_pupil = circle(r=2, stroke=\"none\", fill=\"#7D4016\")\n",
    "right_eye = eye_ellipse + eye_pupil | translate(7.5,0)\n",
    "left_eye = right_eye |scale(x=-1)\n",
    "eyes = right_eye + left_eye\n",
    "#eye brow\n",
    "right_eye_brow = Shape(\"path\", d=\"M-5 0C-1 2 1 2 5 0\", stroke=\"#7D4016\", stroke_width=1.2) |translate(6.5,3) | scale(1.1)\n",
    "left_eye_brow = right_eye_brow |scale(x=-1)\n",
    "eye_brow = right_eye_brow + left_eye_brow\n",
    "#nose\n",
    "right_side_nose = Shape(\"path\", d=\"M-5 0C-1 2 1 2 5 0\", stroke=\"#7D4016\", stroke_width=0.8) | rotate(90) | translate(2.5,-1)\n",
    "left_side_nose = right_side_nose |scale(x=-1)\n",
    "nose_passage = right_side_nose + left_side_nose\n",
    "nose_bottom = Shape(\"path\", d=\"M-5-1C-5 1-4 1-3 0-1 1 1 1 3 0 4 1 5 1 5-1\", stroke=\"#7D4016\", stroke_width=\"2\") | rotate(180) |translate(0,-11) |scale(0.7)\n",
    "nose = nose_passage + nose_bottom\n",
    "#mouth\n",
    "mouth = ellipse(w=7,h=2,stroke=\"#7D4016\") | translate(0,-11)\n",
    "#chin\n",
    "chin_curve = Shape(\"path\",d=\"M-2 0C-1 3 1 3 2 0\", stroke=\"#7D4016\") | translate(0,-15.5)\n",
    "\n",
    "#combine all the various shapes and assign them to a single variable.\n",
    "argentina_flag = base_flag_color + yellow_circle + ray_triangle + ray_curve + eyes + eye_brow + nose + mouth + chin_curve\n",
    "\n",
    "#display the flag.\n",
    "show(argentina_flag)"
   ]
  },
  {
   "cell_type": "markdown",
   "metadata": {},
   "source": [
    "# 9) Republic of Armenia"
   ]
  },
  {
   "cell_type": "code",
   "execution_count": 55,
   "metadata": {},
   "outputs": [
    {
     "data": {
      "image/svg+xml": "<svg width=\"300\" height=\"300\" viewBox=\"-150 -150 300 300\" fill=\"none\" stroke=\"black\" xmlns=\"http://www.w3.org/2000/svg\" xmlns:xlink=\"http://www.w3.org/1999/xlink\">\n<g transform=\"scale(1 -1)\">\n  <rect x=\"-150.0\" y=\"-150.0\" width=\"300\" height=\"300\" stroke=\"#ddd\" />\n  <line x1=\"-150\" y1=\"0\" x2=\"150\" y2=\"0\" stroke=\"#ddd\" />\n  <line x1=\"0\" y1=\"-150\" x2=\"0\" y2=\"150\" stroke=\"#ddd\" />\n  <g>\n    <g>\n      <rect x=\"-150.0\" y=\"50.0\" width=\"300\" height=\"100\" fill=\"#D90012\" stroke=\"none\" />\n      <rect x=\"-150.0\" y=\"-50.0\" width=\"300\" height=\"100\" fill=\"#001489\" stroke=\"none\" />\n    </g>\n    <rect x=\"-150.0\" y=\"-150.0\" width=\"300\" height=\"100\" fill=\"#FF9E1B\" stroke=\"none\" />\n  </g>\n</g>\n</svg>\n",
      "text/plain": [
       "SVG:{self.nodes}"
      ]
     },
     "metadata": {},
     "output_type": "display_data"
    }
   ],
   "source": [
    "#Country: Republic of Armenia.\n",
    "#Description: Representing Armenian Flag.\n",
    "#version: 1.0.0\n",
    "#Status: Completed\n",
    "#Comments: \n",
    "\n",
    "#Individual components of the Armenia flag.\n",
    "red_rectangle = rectangle(y=100,w=300, h=100, fill=\"#D90012\",stroke=\"none\")\n",
    "blue_rectangle = rectangle(w=300, h=100, fill=\"#001489\",stroke=\"none\")\n",
    "orange_rectangle = rectangle(y=-100,w=300, h=100, fill=\"#FF9E1B\",stroke=\"none\")\n",
    "\n",
    "#combine all the various shapes and assign them to a single variable.\n",
    "armenian_flag = red_rectangle + blue_rectangle + orange_rectangle\n",
    "\n",
    "#display the flag.\n",
    "show(armenian_flag)"
   ]
  },
  {
   "cell_type": "markdown",
   "metadata": {},
   "source": [
    "# 10) Commonwealth of Australia"
   ]
  },
  {
   "cell_type": "code",
   "execution_count": 56,
   "metadata": {},
   "outputs": [
    {
     "data": {
      "image/svg+xml": "<svg width=\"300\" height=\"300\" viewBox=\"-150 -150 300 300\" fill=\"none\" stroke=\"black\" xmlns=\"http://www.w3.org/2000/svg\" xmlns:xlink=\"http://www.w3.org/1999/xlink\">\n<g transform=\"scale(1 -1)\">\n  <rect x=\"-150.0\" y=\"-150.0\" width=\"300\" height=\"300\" stroke=\"#ddd\" />\n  <line x1=\"-150\" y1=\"0\" x2=\"150\" y2=\"0\" stroke=\"#ddd\" />\n  <line x1=\"0\" y1=\"-150\" x2=\"0\" y2=\"150\" stroke=\"#ddd\" />\n  <g>\n    <g>\n      <g transform=\"translate(-75 75) scale(0.55 0.55)\">\n        <g>\n          <rect x=\"-150.0\" y=\"-150.0\" width=\"300\" height=\"300\" fill=\"#012169\" stroke=\"none\" />\n          <g>\n            <g>\n              <g>\n                <g>\n                  <g>\n                    <rect x=\"-300.0\" y=\"-25.0\" width=\"600\" height=\"50\" fill=\"#FFFFFF\" stroke=\"none\" transform=\"rotate(45)\" />\n                    <rect x=\"-300.0\" y=\"-25.0\" width=\"600\" height=\"50\" fill=\"#FFFFFF\" stroke=\"none\" transform=\"rotate(90) rotate(45)\" />\n                  </g>\n                  <rect x=\"-100.0\" y=\"-10.0\" width=\"200\" height=\"20\" fill=\"#E4002B\" stroke=\"none\" transform=\"translate(75 90) rotate(45)\" />\n                </g>\n                <rect x=\"-100.0\" y=\"-10.0\" width=\"200\" height=\"20\" fill=\"#E4002B\" stroke=\"none\" transform=\"translate(-25 -5) scale(-1 1) translate(75 90) rotate(45)\" />\n              </g>\n              <rect x=\"-100.0\" y=\"-10.0\" width=\"200\" height=\"20\" fill=\"#E4002B\" stroke=\"none\" transform=\"rotate(180) translate(75 90) rotate(45)\" />\n            </g>\n            <rect x=\"-100.0\" y=\"-10.0\" width=\"200\" height=\"20\" fill=\"#E4002B\" stroke=\"none\" transform=\"rotate(180) translate(-25 -5) scale(-1 1) translate(75 90) rotate(45)\" />\n          </g>\n        </g>\n        <g>\n          <g>\n            <g>\n              <rect x=\"-150.0\" y=\"-35.0\" width=\"300\" height=\"70\" fill=\"#FFFFFF\" stroke=\"none\" />\n              <rect x=\"-150.0\" y=\"-35.0\" width=\"300\" height=\"70\" fill=\"#FFFFFF\" stroke=\"none\" transform=\"rotate(90)\" />\n            </g>\n            <rect x=\"-150.0\" y=\"-20.0\" width=\"300\" height=\"40\" fill=\"#E4002B\" stroke=\"none\" />\n          </g>\n          <rect x=\"-150.0\" y=\"-20.0\" width=\"300\" height=\"40\" fill=\"#E4002B\" stroke=\"none\" transform=\"rotate(90)\" />\n        </g>\n      </g>\n      <g>\n        <rect x=\"-150.0\" y=\"-150.0\" width=\"300\" height=\"150\" fill=\"#012169\" stroke=\"none\" />\n        <rect x=\"0.0\" y=\"-150.0\" width=\"150\" height=\"300\" fill=\"#012169\" stroke=\"none\" />\n      </g>\n    </g>\n    <g>\n      <g>\n        <g>\n          <g>\n            <g>\n              <g transform=\"translate(90 -10) scale(0.3 0.3)\">\n                <defs>\n                  <polygon points=\"0,30 -10,0 10,0\" fill=\"#FFFFFF\" stroke=\"none\" id=\"s-35-4CUz\" />\n                </defs>\n                <g>\n                  <use xlink:href=\"#s-35-4CUz\" />\n                  <g transform=\"rotate(72)\">\n                    <use xlink:href=\"#s-35-4CUz\" />\n                    <g transform=\"rotate(72)\">\n                      <use xlink:href=\"#s-35-4CUz\" />\n                      <g transform=\"rotate(72)\">\n                        <use xlink:href=\"#s-35-4CUz\" />\n                        <use xlink:href=\"#s-35-4CUz\" transform=\"rotate(72)\" />\n                      </g>\n                    </g>\n                  </g>\n                </g>\n              </g>\n              <g transform=\"translate(-75 -75) scale(1.2 1.2)\">\n                <defs>\n                  <polygon points=\"0,30 -10,0 10,0\" fill=\"#FFFFFF\" stroke=\"none\" id=\"s-34-4CUz\" />\n                </defs>\n                <g>\n                  <use xlink:href=\"#s-34-4CUz\" />\n                  <g transform=\"rotate(51.42)\">\n                    <use xlink:href=\"#s-34-4CUz\" />\n                    <g transform=\"rotate(51.42)\">\n                      <use xlink:href=\"#s-34-4CUz\" />\n                      <g transform=\"rotate(51.42)\">\n                        <use xlink:href=\"#s-34-4CUz\" />\n                        <g transform=\"rotate(51.42)\">\n                          <use xlink:href=\"#s-34-4CUz\" />\n                          <g transform=\"rotate(51.42)\">\n                            <use xlink:href=\"#s-34-4CUz\" />\n                            <use xlink:href=\"#s-34-4CUz\" transform=\"rotate(51.42)\" />\n                          </g>\n                        </g>\n                      </g>\n                    </g>\n                  </g>\n                </g>\n              </g>\n            </g>\n            <g transform=\"translate(40 15) scale(0.5 0.5)\">\n              <defs>\n                <polygon points=\"0,30 -10,0 10,0\" fill=\"#FFFFFF\" stroke=\"none\" id=\"s-34-4CUz\" />\n              </defs>\n              <g>\n                <use xlink:href=\"#s-34-4CUz\" />\n                <g transform=\"rotate(51.42)\">\n                  <use xlink:href=\"#s-34-4CUz\" />\n                  <g transform=\"rotate(51.42)\">\n                    <use xlink:href=\"#s-34-4CUz\" />\n                    <g transform=\"rotate(51.42)\">\n                      <use xlink:href=\"#s-34-4CUz\" />\n                      <g transform=\"rotate(51.42)\">\n                        <use xlink:href=\"#s-34-4CUz\" />\n                        <g transform=\"rotate(51.42)\">\n                          <use xlink:href=\"#s-34-4CUz\" />\n                          <use xlink:href=\"#s-34-4CUz\" transform=\"rotate(51.42)\" />\n                        </g>\n                      </g>\n                    </g>\n                  </g>\n                </g>\n              </g>\n            </g>\n          </g>\n          <g transform=\"translate(75 90) scale(0.5 0.5)\">\n            <defs>\n              <polygon points=\"0,30 -10,0 10,0\" fill=\"#FFFFFF\" stroke=\"none\" id=\"s-34-4CUz\" />\n            </defs>\n            <g>\n              <use xlink:href=\"#s-34-4CUz\" />\n              <g transform=\"rotate(51.42)\">\n                <use xlink:href=\"#s-34-4CUz\" />\n                <g transform=\"rotate(51.42)\">\n                  <use xlink:href=\"#s-34-4CUz\" />\n                  <g transform=\"rotate(51.42)\">\n                    <use xlink:href=\"#s-34-4CUz\" />\n                    <g transform=\"rotate(51.42)\">\n                      <use xlink:href=\"#s-34-4CUz\" />\n                      <g transform=\"rotate(51.42)\">\n                        <use xlink:href=\"#s-34-4CUz\" />\n                        <use xlink:href=\"#s-34-4CUz\" transform=\"rotate(51.42)\" />\n                      </g>\n                    </g>\n                  </g>\n                </g>\n              </g>\n            </g>\n          </g>\n        </g>\n        <g transform=\"translate(120 30) scale(0.5 0.5)\">\n          <defs>\n            <polygon points=\"0,30 -10,0 10,0\" fill=\"#FFFFFF\" stroke=\"none\" id=\"s-34-4CUz\" />\n          </defs>\n          <g>\n            <use xlink:href=\"#s-34-4CUz\" />\n            <g transform=\"rotate(51.42)\">\n              <use xlink:href=\"#s-34-4CUz\" />\n              <g transform=\"rotate(51.42)\">\n                <use xlink:href=\"#s-34-4CUz\" />\n                <g transform=\"rotate(51.42)\">\n                  <use xlink:href=\"#s-34-4CUz\" />\n                  <g transform=\"rotate(51.42)\">\n                    <use xlink:href=\"#s-34-4CUz\" />\n                    <g transform=\"rotate(51.42)\">\n                      <use xlink:href=\"#s-34-4CUz\" />\n                      <use xlink:href=\"#s-34-4CUz\" transform=\"rotate(51.42)\" />\n                    </g>\n                  </g>\n                </g>\n              </g>\n            </g>\n          </g>\n        </g>\n      </g>\n      <g transform=\"translate(75 -90) scale(0.5 0.5)\">\n        <defs>\n          <polygon points=\"0,30 -10,0 10,0\" fill=\"#FFFFFF\" stroke=\"none\" id=\"s-34-4CUz\" />\n        </defs>\n        <g>\n          <use xlink:href=\"#s-34-4CUz\" />\n          <g transform=\"rotate(51.42)\">\n            <use xlink:href=\"#s-34-4CUz\" />\n            <g transform=\"rotate(51.42)\">\n              <use xlink:href=\"#s-34-4CUz\" />\n              <g transform=\"rotate(51.42)\">\n                <use xlink:href=\"#s-34-4CUz\" />\n                <g transform=\"rotate(51.42)\">\n                  <use xlink:href=\"#s-34-4CUz\" />\n                  <g transform=\"rotate(51.42)\">\n                    <use xlink:href=\"#s-34-4CUz\" />\n                    <use xlink:href=\"#s-34-4CUz\" transform=\"rotate(51.42)\" />\n                  </g>\n                </g>\n              </g>\n            </g>\n          </g>\n        </g>\n      </g>\n    </g>\n  </g>\n</g>\n</svg>\n",
      "text/plain": [
       "SVG:{self.nodes}"
      ]
     },
     "metadata": {},
     "output_type": "display_data"
    }
   ],
   "source": [
    "#Country: Commonwealth of Australia\n",
    "#Description: Representing Australian Flag.\n",
    "#version: 1.0.0\n",
    "#Status: Completed\n",
    "#Comments: \n",
    "\n",
    "#Individual components of the Australian flag.\n",
    "\n",
    "#First creating the union jack separately and then scaling it down\n",
    "uj_blue_rectangle = rectangle(w=300,h=300, fill=\"#012169\", stroke=\"none\")\n",
    "#union jack cross\n",
    "uj_white_cross_one = rectangle(w=600,h=50, fill=\"#FFFFFF\", stroke=\"none\") |rotate(45)\n",
    "uj_white_cross_two = uj_white_cross_one | rotate(90)\n",
    "uj_red_cross_one = rectangle(w=200, h=20, fill=\"#E4002B\", stroke=\"none\") |rotate(45) |translate(75,90)\n",
    "uj_red_cross_two = uj_red_cross_one |scale(x=-1) |translate(-25,-5)\n",
    "uj_red_cross_three = uj_red_cross_one| rotate(180)\n",
    "uj_red_cross_four = uj_red_cross_two | rotate(180)\n",
    "union_jack_cross = uj_white_cross_one + uj_white_cross_two + uj_red_cross_one + uj_red_cross_two + uj_red_cross_three + uj_red_cross_four\n",
    "#union jack plus symbol\n",
    "uj_white_plus_one = rectangle(w=300, h=70, fill=\"#FFFFFF\", stroke=\"none\")\n",
    "uj_white_plus_two = uj_white_plus_one |rotate(90)\n",
    "uj_red_plus_one = rectangle(w=300, h=40, fill=\"#E4002B\", stroke=\"none\")\n",
    "uj_red_plus_two = uj_red_plus_one |rotate(90)\n",
    "union_jack_plus = uj_white_plus_one + uj_white_plus_two + uj_red_plus_one + uj_red_plus_two\n",
    "#the complete union jack put together.\n",
    "union_jack = uj_blue_rectangle + union_jack_cross + union_jack_plus |scale(0.55) |translate(-75,75)\n",
    "\n",
    "#Rest of the flag items\n",
    "blue_rectangle_mask_one = rectangle(y=-75,w=300, h=150, fill=\"#012169\", stroke=\"none\")\n",
    "blue_rectangle_mask_two = rectangle(x=75,w=150, h=300, fill=\"#012169\", stroke=\"none\")\n",
    "blue_masks = blue_rectangle_mask_one + blue_rectangle_mask_two\n",
    "\n",
    "#Co-rdinate points for the triangles to create stars.\n",
    "p1 = point(x=0,y=30)\n",
    "p2 = point(x=-10,y=0)\n",
    "p3 = point(x=10,y=0)\n",
    "\n",
    "#star component.\n",
    "seven_side_star = polygon([p1,p2,p3], fill=\"#FFFFFF\", stroke=\"none\") |repeat(7, rotate(51.42))\n",
    "five_side_star = polygon([p1,p2,p3], fill=\"#FFFFFF\", stroke=\"none\") | repeat(5, rotate(72))\n",
    "\n",
    "five_side_star_one = five_side_star |scale(0.3) | translate(90,-10)\n",
    "seven_side_star_one = seven_side_star | scale(1.2) |translate(-75,-75)\n",
    "seven_side_star_two = seven_side_star | scale(0.5) | translate(40,15)\n",
    "seven_side_star_three = seven_side_star | scale(0.5) | translate(75,90)\n",
    "seven_side_star_four = seven_side_star | scale(0.5) | translate(120,30)\n",
    "seven_side_star_five = seven_side_star | scale(0.5) | translate(75,-90)\n",
    "\n",
    "stars = five_side_star_one + seven_side_star_one + seven_side_star_two + seven_side_star_three + seven_side_star_four + seven_side_star_five\n",
    "\n",
    "#combine all the various shapes and assign them to a single variable.\n",
    "australian_flag = union_jack + blue_masks + stars\n",
    "\n",
    "#display the flag.\n",
    "show(australian_flag)"
   ]
  },
  {
   "cell_type": "markdown",
   "metadata": {},
   "source": [
    "# 11) Republic of Austria"
   ]
  },
  {
   "cell_type": "code",
   "execution_count": 57,
   "metadata": {},
   "outputs": [
    {
     "data": {
      "image/svg+xml": "<svg width=\"300\" height=\"300\" viewBox=\"-150 -150 300 300\" fill=\"none\" stroke=\"black\" xmlns=\"http://www.w3.org/2000/svg\" xmlns:xlink=\"http://www.w3.org/1999/xlink\">\n<g transform=\"scale(1 -1)\">\n  <rect x=\"-150.0\" y=\"-150.0\" width=\"300\" height=\"300\" stroke=\"#ddd\" />\n  <line x1=\"-150\" y1=\"0\" x2=\"150\" y2=\"0\" stroke=\"#ddd\" />\n  <line x1=\"0\" y1=\"-150\" x2=\"0\" y2=\"150\" stroke=\"#ddd\" />\n  <g>\n    <rect x=\"-150.0\" y=\"-150.0\" width=\"300\" height=\"300\" fill=\"#EF3340\" stroke=\"none\" />\n    <rect x=\"-150.0\" y=\"-50.0\" width=\"300\" height=\"100\" fill=\"#FFFFFF\" stroke=\"none\" />\n  </g>\n</g>\n</svg>\n",
      "text/plain": [
       "SVG:{self.nodes}"
      ]
     },
     "metadata": {},
     "output_type": "display_data"
    }
   ],
   "source": [
    "#Country: Republic of Austria\n",
    "#Description: Representing Austrian Flag.\n",
    "#version: 1.0.0\n",
    "#Status: Completed.\n",
    "#Comments: \n",
    "\n",
    "#Individual components of the Austrian flag.\n",
    "red_rectangle = rectangle(w=300, h=300, fill=\"#EF3340\",stroke=\"none\")\n",
    "white_rectangle = rectangle(w=300, h=100, fill=\"#FFFFFF\",stroke=\"none\")\n",
    "\n",
    "#combine all the various shapes and assign them to a single variable.\n",
    "austrian_flag = red_rectangle + white_rectangle\n",
    "\n",
    "#display the flag.\n",
    "show(austrian_flag)"
   ]
  },
  {
   "cell_type": "markdown",
   "metadata": {},
   "source": [
    "# 12) Republic of Azerbaijan"
   ]
  },
  {
   "cell_type": "code",
   "execution_count": 58,
   "metadata": {},
   "outputs": [
    {
     "data": {
      "image/svg+xml": "<svg width=\"300\" height=\"300\" viewBox=\"-150 -150 300 300\" fill=\"none\" stroke=\"black\" xmlns=\"http://www.w3.org/2000/svg\" xmlns:xlink=\"http://www.w3.org/1999/xlink\">\n<g transform=\"scale(1 -1)\">\n  <rect x=\"-150.0\" y=\"-150.0\" width=\"300\" height=\"300\" stroke=\"#ddd\" />\n  <line x1=\"-150\" y1=\"0\" x2=\"150\" y2=\"0\" stroke=\"#ddd\" />\n  <line x1=\"0\" y1=\"-150\" x2=\"0\" y2=\"150\" stroke=\"#ddd\" />\n  <g>\n    <g>\n      <g>\n        <g>\n          <rect x=\"-150.0\" y=\"50.0\" width=\"300\" height=\"100\" fill=\"#0092BC\" stroke=\"none\" />\n          <rect x=\"-150.0\" y=\"-50.0\" width=\"300\" height=\"100\" fill=\"#E4002B\" stroke=\"none\" />\n        </g>\n        <rect x=\"-150.0\" y=\"-150.0\" width=\"300\" height=\"100\" fill=\"#00AF66\" stroke=\"none\" />\n      </g>\n      <g>\n        <circle cx=\"0\" cy=\"0\" r=\"40\" fill=\"#FFFFFF\" stroke=\"none\" />\n        <circle cx=\"0\" cy=\"0\" r=\"32.5\" fill=\"#E4002B\" stroke=\"none\" transform=\"translate(10 0)\" />\n      </g>\n    </g>\n    <g transform=\"translate(45 0) scale(0.7 0.7)\">\n      <defs>\n        <polygon points=\"0,30 -10,0 10,0\" fill=\"#FFFFFF\" stroke=\"none\" id=\"s-36-4CUz\" />\n      </defs>\n      <g>\n        <use xlink:href=\"#s-36-4CUz\" />\n        <g transform=\"rotate(45)\">\n          <use xlink:href=\"#s-36-4CUz\" />\n          <g transform=\"rotate(45)\">\n            <use xlink:href=\"#s-36-4CUz\" />\n            <g transform=\"rotate(45)\">\n              <use xlink:href=\"#s-36-4CUz\" />\n              <g transform=\"rotate(45)\">\n                <use xlink:href=\"#s-36-4CUz\" />\n                <g transform=\"rotate(45)\">\n                  <use xlink:href=\"#s-36-4CUz\" />\n                  <g transform=\"rotate(45)\">\n                    <use xlink:href=\"#s-36-4CUz\" />\n                    <use xlink:href=\"#s-36-4CUz\" transform=\"rotate(45)\" />\n                  </g>\n                </g>\n              </g>\n            </g>\n          </g>\n        </g>\n      </g>\n    </g>\n  </g>\n</g>\n</svg>\n",
      "text/plain": [
       "SVG:{self.nodes}"
      ]
     },
     "metadata": {},
     "output_type": "display_data"
    }
   ],
   "source": [
    "#Country: Republic of Azerbaijan\n",
    "#Description: Representing Azerbaijan Flag.\n",
    "#version: 1.0.0\n",
    "#Status: Completed.\n",
    "#Comments: \n",
    "\n",
    "#Co-rdinate points for the triangles to create star.\n",
    "p1 = point(x=0,y=30)\n",
    "p2 = point(x=-10,y=0)\n",
    "p3 = point(x=10,y=0)\n",
    "\n",
    "#Individual components of the Azerbaijan flag.\n",
    "blue_rectangle = rectangle(y=100,w=300, h=100, fill=\"#0092BC\",stroke=\"none\")\n",
    "red_rectangle = rectangle(w=300, h=100, fill=\"#E4002B\",stroke=\"none\")\n",
    "green_rectangle = rectangle(y=-100,w=300, h=100, fill=\"#00AF66\",stroke=\"none\")\n",
    "base_flag_color = blue_rectangle + red_rectangle + green_rectangle\n",
    "\n",
    "#crescent moon.\n",
    "white_circle = circle(r=40, fill=\"#FFFFFF\", stroke=\"none\")\n",
    "red_circle = circle(r=32.5, fill=\"#E4002B\", stroke=\"none\") |translate(10,0)\n",
    "crescent_moon = white_circle + red_circle\n",
    "\n",
    "#star\n",
    "triangle = polygon([p1,p2,p3], fill=\"#FFFFFF\", stroke=\"none\") |repeat(8, rotate(45))\n",
    "star = triangle |scale(0.7) |translate(45,0)\n",
    "\n",
    "#combine all the various shapes and assign them to a single variable.\n",
    "azerbaijan_flag = base_flag_color + crescent_moon + star\n",
    "\n",
    "#display the flag.\n",
    "show(azerbaijan_flag)"
   ]
  },
  {
   "cell_type": "markdown",
   "metadata": {},
   "source": [
    "# 13) Commonwealth of The Bahamas"
   ]
  },
  {
   "cell_type": "code",
   "execution_count": 59,
   "metadata": {},
   "outputs": [
    {
     "data": {
      "image/svg+xml": "<svg width=\"300\" height=\"300\" viewBox=\"-150 -150 300 300\" fill=\"none\" stroke=\"black\" xmlns=\"http://www.w3.org/2000/svg\" xmlns:xlink=\"http://www.w3.org/1999/xlink\">\n<g transform=\"scale(1 -1)\">\n  <rect x=\"-150.0\" y=\"-150.0\" width=\"300\" height=\"300\" stroke=\"#ddd\" />\n  <line x1=\"-150\" y1=\"0\" x2=\"150\" y2=\"0\" stroke=\"#ddd\" />\n  <line x1=\"0\" y1=\"-150\" x2=\"0\" y2=\"150\" stroke=\"#ddd\" />\n  <g>\n    <g>\n      <rect x=\"-150.0\" y=\"-150.0\" width=\"300\" height=\"300\" fill=\"#00A9CE\" stroke=\"none\" />\n      <rect x=\"-150.0\" y=\"-50.0\" width=\"300\" height=\"100\" fill=\"#FDDA25\" stroke=\"none\" />\n    </g>\n    <polygon points=\"-150,150 0,0 -150,-150\" fill=\"#000000\" stroke=\"none\" />\n  </g>\n</g>\n</svg>\n",
      "text/plain": [
       "SVG:{self.nodes}"
      ]
     },
     "metadata": {},
     "output_type": "display_data"
    }
   ],
   "source": [
    "#Country: Commonwealth of The Bahamas\n",
    "#Description: Representing Bahamian Flag.\n",
    "#version: 1.0.0\n",
    "#Status: Completed.\n",
    "#Comments: \n",
    "\n",
    "#Co-rdinate points for the triangles to create star.\n",
    "p1 = point(x=-150,y=150)\n",
    "p2 = point(x=0,y=0)\n",
    "p3 = point(x=-150,y=-150)\n",
    "\n",
    "#Individual components of the Bahamian flag.\n",
    "blue_rectangle = rectangle(w=300, h=300, fill=\"#00A9CE\",stroke=\"none\")\n",
    "yellow_rectangle = rectangle(w=300, h=100, fill=\"#FDDA25\",stroke=\"none\")\n",
    "base_flag_color = blue_rectangle + yellow_rectangle\n",
    "\n",
    "#triangle\n",
    "black_triangle = polygon([p1,p2,p3], fill=\"#000000\", stroke=\"none\")\n",
    "\n",
    "\n",
    "#combine all the various shapes and assign them to a single variable.\n",
    "bahamas_flag = base_flag_color + black_triangle\n",
    "\n",
    "#display the flag.\n",
    "show(bahamas_flag)"
   ]
  },
  {
   "cell_type": "markdown",
   "metadata": {},
   "source": [
    "# 14) Kingdom of Bahrain"
   ]
  },
  {
   "cell_type": "code",
   "execution_count": 60,
   "metadata": {},
   "outputs": [
    {
     "data": {
      "image/svg+xml": "<svg width=\"300\" height=\"300\" viewBox=\"-150 -150 300 300\" fill=\"none\" stroke=\"black\" xmlns=\"http://www.w3.org/2000/svg\" xmlns:xlink=\"http://www.w3.org/1999/xlink\">\n<g transform=\"scale(1 -1)\">\n  <rect x=\"-150.0\" y=\"-150.0\" width=\"300\" height=\"300\" stroke=\"#ddd\" />\n  <line x1=\"-150\" y1=\"0\" x2=\"150\" y2=\"0\" stroke=\"#ddd\" />\n  <line x1=\"0\" y1=\"-150\" x2=\"0\" y2=\"150\" stroke=\"#ddd\" />\n  <g>\n    <g>\n      <rect x=\"-150.0\" y=\"-150.0\" width=\"300\" height=\"300\" fill=\"#CE1126\" stroke-width=\"0.5\" />\n      <rect x=\"-150.0\" y=\"-150.0\" width=\"50\" height=\"300\" fill=\"#FFFFFF\" stroke-width=\"0.5\" />\n    </g>\n    <g>\n      <defs>\n        <polygon points=\"-101,150 -60,120 -101,90\" fill=\"#FFFFFF\" stroke=\"none\" id=\"s-37-4CUz\" />\n      </defs>\n      <g>\n        <use xlink:href=\"#s-37-4CUz\" />\n        <g transform=\"translate(0 -60)\">\n          <use xlink:href=\"#s-37-4CUz\" />\n          <g transform=\"translate(0 -60)\">\n            <use xlink:href=\"#s-37-4CUz\" />\n            <g transform=\"translate(0 -60)\">\n              <use xlink:href=\"#s-37-4CUz\" />\n              <use xlink:href=\"#s-37-4CUz\" transform=\"translate(0 -60)\" />\n            </g>\n          </g>\n        </g>\n      </g>\n    </g>\n  </g>\n</g>\n</svg>\n",
      "text/plain": [
       "SVG:{self.nodes}"
      ]
     },
     "metadata": {},
     "output_type": "display_data"
    }
   ],
   "source": [
    "#Country: Kingdom of Bahrain\n",
    "#Description: Representing Bahraini Flag.\n",
    "#version: 1.0.0\n",
    "#Status: Completed.\n",
    "#Comments: \n",
    "\n",
    "#Co-rdinate points for the triangles to create star.\n",
    "p1 = point(x=-101,y=150)\n",
    "p2 = point(x=-60,y=120)\n",
    "p3 = point(x=-101,y=90)\n",
    "\n",
    "#Individual components of the Bahraini flag.\n",
    "red_rectangle = rectangle(w=300, h=300, fill=\"#CE1126\", stroke_width=0.5)\n",
    "white_rectangle = rectangle(x=-125,w=50, h=300, fill=\"#FFFFFF\", stroke_width=0.5)\n",
    "base_flag_color = red_rectangle + white_rectangle\n",
    "\n",
    "#triangle\n",
    "white_triangle = polygon([p1,p2,p3], fill=\"#FFFFFF\", stroke=\"none\") |repeat(5, translate(y=-60))\n",
    "\n",
    "#combine all the various shapes and assign them to a single variable.\n",
    "bahraini_flag = base_flag_color + white_triangle \n",
    "\n",
    "#display the flag.\n",
    "show(bahraini_flag)"
   ]
  },
  {
   "cell_type": "markdown",
   "metadata": {},
   "source": [
    "# 15) People's Republic of Bangladesh"
   ]
  },
  {
   "cell_type": "code",
   "execution_count": 61,
   "metadata": {},
   "outputs": [
    {
     "data": {
      "image/svg+xml": "<svg width=\"300\" height=\"300\" viewBox=\"-150 -150 300 300\" fill=\"none\" stroke=\"black\" xmlns=\"http://www.w3.org/2000/svg\" xmlns:xlink=\"http://www.w3.org/1999/xlink\">\n<g transform=\"scale(1 -1)\">\n  <rect x=\"-150.0\" y=\"-150.0\" width=\"300\" height=\"300\" stroke=\"#ddd\" />\n  <line x1=\"-150\" y1=\"0\" x2=\"150\" y2=\"0\" stroke=\"#ddd\" />\n  <line x1=\"0\" y1=\"-150\" x2=\"0\" y2=\"150\" stroke=\"#ddd\" />\n  <g>\n    <rect x=\"-150.0\" y=\"-150.0\" width=\"300\" height=\"300\" fill=\"#006A4E\" stroke=\"none\" />\n    <circle cx=\"-15\" cy=\"0\" r=\"75\" fill=\"#F42A41\" stroke=\"none\" />\n  </g>\n</g>\n</svg>\n",
      "text/plain": [
       "SVG:{self.nodes}"
      ]
     },
     "metadata": {},
     "output_type": "display_data"
    }
   ],
   "source": [
    "#Country: People's Republic of Bangladesh\n",
    "#Description: Representing Bangladesh Flag.\n",
    "#version: 1.0.0\n",
    "#Status: Completed.\n",
    "#Comments: \n",
    "\n",
    "#Individual components of the Bangladesh flag.\n",
    "green_rectangle = rectangle(w=300, h=300, fill=\"#006A4E\", stroke=\"none\")\n",
    "red_circle = circle(x=-15,r=75,fill=\"#F42A41\", stroke=\"none\")\n",
    "\n",
    "#combine all the various shapes and assign them to a single variable.\n",
    "bangladesh_flag = green_rectangle + red_circle\n",
    "\n",
    "#display the flag.\n",
    "show(bangladesh_flag)"
   ]
  },
  {
   "cell_type": "markdown",
   "metadata": {},
   "source": [
    "# 16) Barbados - A Republic within the Commonwealth."
   ]
  },
  {
   "cell_type": "code",
   "execution_count": 62,
   "metadata": {},
   "outputs": [
    {
     "data": {
      "image/svg+xml": "<svg width=\"300\" height=\"300\" viewBox=\"-150 -150 300 300\" fill=\"none\" stroke=\"black\" xmlns=\"http://www.w3.org/2000/svg\" xmlns:xlink=\"http://www.w3.org/1999/xlink\">\n<g transform=\"scale(1 -1)\">\n  <rect x=\"-150.0\" y=\"-150.0\" width=\"300\" height=\"300\" stroke=\"#ddd\" />\n  <line x1=\"-150\" y1=\"0\" x2=\"150\" y2=\"0\" stroke=\"#ddd\" />\n  <line x1=\"0\" y1=\"-150\" x2=\"0\" y2=\"150\" stroke=\"#ddd\" />\n  <g>\n    <g>\n      <rect x=\"-150.0\" y=\"-150.0\" width=\"300\" height=\"300\" fill=\"#00267F\" stroke=\"none\" />\n      <rect x=\"-50.0\" y=\"-150.0\" width=\"100\" height=\"300\" fill=\"#FFC726\" stroke=\"none\" />\n    </g>\n    <g transform=\"translate(0 -20)\">\n      <g>\n        <path d=\"M0-1C-3-1-10 0-13 1-12-4-13-12-15-17-13-17-13-17-11-16A1 1 0 00-12-15C-10-10-10-7-10-2-3-5 3-5 10-2 10-7 10-10 12-15A1 1 0 0011-16C13-17 13-17 15-17 13-12 12-4 13 1 10 0 3-1 0-1\" stroke=\"none\" fill=\"#000000\" transform=\"rotate(180) scale(3 3)\" />\n        <rect x=\"-5.0\" y=\"-40.0\" width=\"10\" height=\"80\" fill=\"#000000\" stroke=\"none\" transform=\"translate(0 10)\" />\n      </g>\n      <polygon points=\"0,25 -15,0 15,0\" fill=\"#000000\" stroke=\"none\" transform=\"translate(0 50)\" />\n    </g>\n  </g>\n</g>\n</svg>\n",
      "text/plain": [
       "SVG:{self.nodes}"
      ]
     },
     "metadata": {},
     "output_type": "display_data"
    }
   ],
   "source": [
    "#Country: Barbados - A Republic within the Commonwealth.\n",
    "#Description: Representing Barbadian Flag.\n",
    "#version: 1.0.0\n",
    "#Status: Completed.\n",
    "#Comments: Used svg path editor online for some of the custom shapes at https://yqnn.github.io/svg-path-editor/ .\n",
    "#          The trident could be done better. Improve it in next version.\n",
    "\n",
    "#Co-rdinate points for the triangles to create star.\n",
    "p1 = point(x=0,y=25)\n",
    "p2 = point(x=-15,y=0)\n",
    "p3 = point(x=15,y=0)\n",
    "\n",
    "#Individual components of the Barbadian flag.\n",
    "blue_rectangle = rectangle(w=300, h=300, fill=\"#00267F\",stroke=\"none\")\n",
    "yellow_rectangle = rectangle(w=100, h=300, fill=\"#FFC726\",stroke=\"none\")\n",
    "base_flag_colors = blue_rectangle + yellow_rectangle\n",
    "\n",
    "#trident head\n",
    "trident_sides = Shape(\"path\",d=\"M0-1C-3-1-10 0-13 1-12-4-13-12-15-17-13-17-13-17-11-16A1 1 0 00-12-15C-10-10-10-7-10-2-3-5 3-5 10-2 10-7 10-10 12-15A1 1 0 0011-16C13-17 13-17 15-17 13-12 12-4 13 1 10 0 3-1 0-1\", stroke=\"none\", fill=\"#000000\") |scale(3) |rotate(180)\n",
    "#middle spoke base.\n",
    "middle_spoke_rectangle = rectangle(w=10,h=80, fill=\"#000000\", stroke=\"none\") | translate(0,10)\n",
    "#triangle spoke\n",
    "spoke_triangle = polygon([p1,p2,p3], fill=\"#000000\", stroke=\"none\") | translate(0,50)\n",
    "\n",
    "trident = trident_sides + middle_spoke_rectangle + spoke_triangle |translate(0,-20)\n",
    "#combine all the various shapes and assign them to a single variable.\n",
    "barbadian_flag = base_flag_colors + trident\n",
    "\n",
    "#display the flag.\n",
    "show(barbadian_flag)"
   ]
  },
  {
   "cell_type": "markdown",
   "metadata": {},
   "source": [
    "# 17) Republic of Belarus"
   ]
  },
  {
   "cell_type": "code",
   "execution_count": 63,
   "metadata": {},
   "outputs": [
    {
     "data": {
      "image/svg+xml": "<svg width=\"300\" height=\"300\" viewBox=\"-150 -150 300 300\" fill=\"none\" stroke=\"black\" xmlns=\"http://www.w3.org/2000/svg\" xmlns:xlink=\"http://www.w3.org/1999/xlink\">\n<g transform=\"scale(1 -1)\">\n  <rect x=\"-150.0\" y=\"-150.0\" width=\"300\" height=\"300\" stroke=\"#ddd\" />\n  <line x1=\"-150\" y1=\"0\" x2=\"150\" y2=\"0\" stroke=\"#ddd\" />\n  <line x1=\"0\" y1=\"-150\" x2=\"0\" y2=\"150\" stroke=\"#ddd\" />\n  <g>\n    <g>\n      <g>\n        <g>\n          <g>\n            <g>\n              <g>\n                <rect x=\"-150.0\" y=\"-150.0\" width=\"300\" height=\"300\" fill=\"#D22730\" stroke=\"none\" />\n                <rect x=\"-150.0\" y=\"-150.0\" width=\"300\" height=\"100\" fill=\"#00AF66\" stroke=\"none\" />\n              </g>\n              <rect x=\"-162.5\" y=\"-150.0\" width=\"75\" height=\"300\" fill=\"#FFFFFF\" stroke=\"none\" />\n            </g>\n            <g>\n              <g>\n                <g>\n                  <line x1=\"-149\" y1=\"150\" x2=\"-149\" y2=\"-150\" stroke=\"#D22730\" stroke-width=\"1\" />\n                  <line x1=\"-89\" y1=\"150\" x2=\"-89\" y2=\"-150\" stroke=\"#D22730\" stroke-width=\"1\" />\n                </g>\n                <line x1=\"-149\" y1=\"150\" x2=\"-149\" y2=\"-150\" stroke=\"#D22730\" stroke-width=\"1\" transform=\"translate(3 0)\" />\n              </g>\n              <line x1=\"-89\" y1=\"150\" x2=\"-89\" y2=\"-150\" stroke=\"#D22730\" stroke-width=\"1\" transform=\"translate(-3 0)\" />\n            </g>\n          </g>\n          <g>\n            <polyline points=\"-146,-20 -119,50 -92,-20\" stroke=\"#D22730\" stroke-width=\"2\" />\n            <polyline points=\"-146,-20 -119,50 -92,-20\" stroke=\"#D22730\" stroke-width=\"2\" transform=\"scale(1 -1)\" />\n          </g>\n        </g>\n        <g>\n          <g>\n            <polyline points=\"-146,130 -132.5,150 -119,130 -132.5,110 -146,130\" stroke=\"#D22730\" stroke-width=\"2\" />\n            <polyline points=\"-119,130 -105.5,150 -92,130 -105.5,110 -119,130\" stroke=\"#D22730\" stroke-width=\"2\" />\n          </g>\n          <g transform=\"scale(1 -1)\">\n            <polyline points=\"-146,130 -132.5,150 -119,130 -132.5,110 -146,130\" stroke=\"#D22730\" stroke-width=\"2\" />\n            <polyline points=\"-119,130 -105.5,150 -92,130 -105.5,110 -119,130\" stroke=\"#D22730\" stroke-width=\"2\" />\n          </g>\n        </g>\n      </g>\n      <g>\n        <g>\n          <g>\n            <g>\n              <polyline points=\"-146,130 -132.5,150 -119,130 -132.5,110 -146,130\" stroke=\"#D22730\" stroke-width=\"9\" transform=\"translate(-100 60) scale(0.3 0.3)\" />\n              <polyline points=\"-146,130 -132.5,150 -119,130 -132.5,110 -146,130\" stroke=\"#D22730\" stroke-width=\"9\" transform=\"translate(12 0) translate(-100 60) scale(0.3 0.3)\" />\n            </g>\n            <polyline points=\"-146,130 -132.5,150 -119,130 -132.5,110 -146,130\" stroke=\"#D22730\" stroke-width=\"9\" transform=\"translate(41 0) translate(-100 60) scale(0.3 0.3)\" />\n          </g>\n          <polyline points=\"-146,130 -132.5,150 -119,130 -132.5,110 -146,130\" stroke=\"#D22730\" stroke-width=\"9\" transform=\"translate(29 0) translate(-100 60) scale(0.3 0.3)\" />\n        </g>\n        <g transform=\"scale(1 -1)\">\n          <g>\n            <g>\n              <polyline points=\"-146,130 -132.5,150 -119,130 -132.5,110 -146,130\" stroke=\"#D22730\" stroke-width=\"9\" transform=\"translate(-100 60) scale(0.3 0.3)\" />\n              <polyline points=\"-146,130 -132.5,150 -119,130 -132.5,110 -146,130\" stroke=\"#D22730\" stroke-width=\"9\" transform=\"translate(12 0) translate(-100 60) scale(0.3 0.3)\" />\n            </g>\n            <polyline points=\"-146,130 -132.5,150 -119,130 -132.5,110 -146,130\" stroke=\"#D22730\" stroke-width=\"9\" transform=\"translate(41 0) translate(-100 60) scale(0.3 0.3)\" />\n          </g>\n          <polyline points=\"-146,130 -132.5,150 -119,130 -132.5,110 -146,130\" stroke=\"#D22730\" stroke-width=\"9\" transform=\"translate(29 0) translate(-100 60) scale(0.3 0.3)\" />\n        </g>\n      </g>\n    </g>\n    <g>\n      <g>\n        <g>\n          <polyline points=\"-146,130 -132.5,150 -119,130 -132.5,110 -146,130\" fill=\"#D22730\" stroke=\"none\" transform=\"translate(-26 -48) scale(0.8 0.8)\" />\n          <circle cx=\"-132\" cy=\"46\" r=\"6\" fill=\"#FFFFFF\" stroke=\"none\" />\n        </g>\n        <g transform=\"translate(25 0)\">\n          <polyline points=\"-146,130 -132.5,150 -119,130 -132.5,110 -146,130\" fill=\"#D22730\" stroke=\"none\" transform=\"translate(-26 -48) scale(0.8 0.8)\" />\n          <circle cx=\"-132\" cy=\"46\" r=\"6\" fill=\"#FFFFFF\" stroke=\"none\" />\n        </g>\n      </g>\n      <g transform=\"scale(1 -1)\">\n        <g>\n          <polyline points=\"-146,130 -132.5,150 -119,130 -132.5,110 -146,130\" fill=\"#D22730\" stroke=\"none\" transform=\"translate(-26 -48) scale(0.8 0.8)\" />\n          <circle cx=\"-132\" cy=\"46\" r=\"6\" fill=\"#FFFFFF\" stroke=\"none\" />\n        </g>\n        <g transform=\"translate(25 0)\">\n          <polyline points=\"-146,130 -132.5,150 -119,130 -132.5,110 -146,130\" fill=\"#D22730\" stroke=\"none\" transform=\"translate(-26 -48) scale(0.8 0.8)\" />\n          <circle cx=\"-132\" cy=\"46\" r=\"6\" fill=\"#FFFFFF\" stroke=\"none\" />\n        </g>\n      </g>\n    </g>\n  </g>\n</g>\n</svg>\n",
      "text/plain": [
       "SVG:{self.nodes}"
      ]
     },
     "metadata": {},
     "output_type": "display_data"
    }
   ],
   "source": [
    "#Country: Republic of Belarus\n",
    "#Description: Representing Belarusian Flag.\n",
    "#version: 1.0.0\n",
    "#Status: Completed.\n",
    "#Comments: Used svg path editor online for some of the custom shapes at https://yqnn.github.io/svg-path-editor/ .\n",
    "\n",
    "\n",
    "#Individual components of the Belarusian flag.\n",
    "red_rectangle = rectangle(w=300, h=300, fill=\"#D22730\",stroke=\"none\")\n",
    "green_rectangle = rectangle(y=-100,w=300, h=100, fill=\"#00AF66\",stroke=\"none\")\n",
    "white_rectangle = rectangle(x=-125,w=75,h=300, fill=\"#FFFFFF\", stroke=\"none\")\n",
    "base_flag_colors = red_rectangle + green_rectangle + white_rectangle\n",
    "\n",
    "#Border line of ruchnik patterns/emblem\n",
    "border_line_one = line(-149,150,-149,-150, stroke=\"#D22730\", stroke_width=1)\n",
    "border_line_two = line(-89,150,-89,-150, stroke=\"#D22730\", stroke_width=1)\n",
    "border_line_three = border_line_one | translate(3,0)\n",
    "border_line_four = border_line_two | translate(-3,0)\n",
    "border_lines = border_line_one + border_line_two + border_line_three + border_line_four\n",
    "\n",
    "#parts of ruchnik patterns/emblem.\n",
    "#Co-rdinate points for the arrow heads\n",
    "p1 = point(x=-146, y=-20)\n",
    "p2 = point(x=-119, y=50)\n",
    "p3 = point(x=-92, y=-20)\n",
    "\n",
    "#arrow heads\n",
    "arrow_head_upper = polyline([p1,p2,p3], stroke=\"#D22730\", stroke_width=2)\n",
    "arrow_head_down = arrow_head_upper |scale(y=-1)\n",
    "arrow_heads = arrow_head_upper + arrow_head_down\n",
    "\n",
    "#Co-rdinate points for diamonds.\n",
    "p4 = point(-146,130)\n",
    "p5 = point(-132.5,150)\n",
    "p6 = point(-119,130)\n",
    "p7 = point(-132.5,110)\n",
    "p8 = point(-105.5,150)\n",
    "p9 = point(-92,130)\n",
    "p10 = point(-105.5,110)\n",
    "\n",
    "#double diamonds\n",
    "upper_diamond_one = polyline([p4,p5,p6,p7,p4], stroke=\"#D22730\", stroke_width=2)\n",
    "upper_diamond_two = polyline([p6,p8,p9,p10,p6], stroke=\"#D22730\", stroke_width=2)\n",
    "upper_diamonds = upper_diamond_one + upper_diamond_two\n",
    "lower_diamonds = upper_diamonds |scale(y=-1)\n",
    "diamonds = upper_diamonds + lower_diamonds\n",
    "\n",
    "#mini diamonds\n",
    "upper_mini_diamond_one = polyline([p4,p5,p6,p7,p4], stroke=\"#D22730\", stroke_width=9)|scale(0.3) |translate(-100,60)\n",
    "upper_mini_diamond_two = upper_mini_diamond_one |translate(12,0)\n",
    "upper_mini_diamond_three = upper_mini_diamond_one |translate(41,0)\n",
    "upper_mini_diamond_four = upper_mini_diamond_one |translate(29,0)\n",
    "upper_mini_diamonds = upper_mini_diamond_one + upper_mini_diamond_two + upper_mini_diamond_three + upper_mini_diamond_four\n",
    "lower_mini_diamonds = upper_mini_diamonds |scale(y=-1)\n",
    "mini_diamonds = upper_mini_diamonds + lower_mini_diamonds\n",
    "\n",
    "#filled diamond\n",
    "red_filled_diamond = polyline([p4,p5,p6,p7,p4], fill=\"#D22730\", stroke=\"none\") |scale(0.8) |translate(-26,-48)\n",
    "white_circle = circle(x=-132,y=46,r=6, fill=\"#FFFFFF\", stroke=\"none\")\n",
    "upper_filled_diamond_one = red_filled_diamond + white_circle\n",
    "upper_filled_diamond_two = upper_filled_diamond_one |translate(25,0)\n",
    "upper_filled_diamonds = upper_filled_diamond_one + upper_filled_diamond_two\n",
    "lower_filled_diamonds = upper_filled_diamonds |scale(y=-1)\n",
    "filled_diamonds = upper_filled_diamonds + lower_filled_diamonds\n",
    "\n",
    "#combine all the various shapes and assign them to a single variable.\n",
    "belarusian_flag = base_flag_colors + border_lines + arrow_heads + diamonds + mini_diamonds + filled_diamonds\n",
    "\n",
    "#display the flag.\n",
    "show(belarusian_flag)"
   ]
  },
  {
   "cell_type": "markdown",
   "metadata": {},
   "source": [
    "# 18) Kingdom of Belgium"
   ]
  },
  {
   "cell_type": "code",
   "execution_count": 64,
   "metadata": {},
   "outputs": [
    {
     "data": {
      "image/svg+xml": "<svg width=\"300\" height=\"300\" viewBox=\"-150 -150 300 300\" fill=\"none\" stroke=\"black\" xmlns=\"http://www.w3.org/2000/svg\" xmlns:xlink=\"http://www.w3.org/1999/xlink\">\n<g transform=\"scale(1 -1)\">\n  <rect x=\"-150.0\" y=\"-150.0\" width=\"300\" height=\"300\" stroke=\"#ddd\" />\n  <line x1=\"-150\" y1=\"0\" x2=\"150\" y2=\"0\" stroke=\"#ddd\" />\n  <line x1=\"0\" y1=\"-150\" x2=\"0\" y2=\"150\" stroke=\"#ddd\" />\n  <g>\n    <g>\n      <rect x=\"-150.0\" y=\"-150.0\" width=\"100\" height=\"300\" fill=\"#2D2926\" stroke=\"none\" />\n      <rect x=\"-50.0\" y=\"-150.0\" width=\"100\" height=\"300\" fill=\"#FFCD00\" stroke=\"none\" />\n    </g>\n    <rect x=\"50.0\" y=\"-150.0\" width=\"100\" height=\"300\" fill=\"#C8102E\" stroke=\"none\" />\n  </g>\n</g>\n</svg>\n",
      "text/plain": [
       "SVG:{self.nodes}"
      ]
     },
     "metadata": {},
     "output_type": "display_data"
    }
   ],
   "source": [
    "#Country: Kingdom of Belgium\n",
    "#Description: Representing Belgian Flag.\n",
    "#version: 1.0.0\n",
    "#Status: Completed.\n",
    "#Comments: \n",
    "\n",
    "#Individual components of the Belgian flag.\n",
    "black_rectangle = rectangle(x=-100,w=100, h=300, fill=\"#2D2926\",stroke=\"none\")\n",
    "yellow_rectangle = rectangle(w=100, h=300, fill=\"#FFCD00\",stroke=\"none\")\n",
    "red_rectangle = rectangle(x=100,w=100, h=300, fill=\"#C8102E\",stroke=\"none\")\n",
    "\n",
    "#combine all the various shapes and assign them to a single variable.\n",
    "belgian_flag = black_rectangle + yellow_rectangle + red_rectangle\n",
    "\n",
    "#display the flag.\n",
    "show(belgian_flag)"
   ]
  },
  {
   "cell_type": "markdown",
   "metadata": {},
   "source": [
    "# 19) Belize"
   ]
  },
  {
   "cell_type": "code",
   "execution_count": 65,
   "metadata": {},
   "outputs": [
    {
     "data": {
      "image/svg+xml": "<svg width=\"300\" height=\"300\" viewBox=\"-150 -150 300 300\" fill=\"none\" stroke=\"black\" xmlns=\"http://www.w3.org/2000/svg\" xmlns:xlink=\"http://www.w3.org/1999/xlink\">\n<g transform=\"scale(1 -1)\">\n  <rect x=\"-150.0\" y=\"-150.0\" width=\"300\" height=\"300\" stroke=\"#ddd\" />\n  <line x1=\"-150\" y1=\"0\" x2=\"150\" y2=\"0\" stroke=\"#ddd\" />\n  <line x1=\"0\" y1=\"-150\" x2=\"0\" y2=\"150\" stroke=\"#ddd\" />\n  <g>\n    <g>\n      <g>\n        <g>\n          <rect x=\"-150.0\" y=\"-150.0\" width=\"300\" height=\"300\" fill=\"#D90F19\" stroke=\"none\" />\n          <rect x=\"-150.0\" y=\"-112.5\" width=\"300\" height=\"225\" fill=\"#171696\" stroke=\"none\" />\n        </g>\n        <circle cx=\"0\" cy=\"0\" r=\"90\" fill=\"#FFFFFF\" stroke=\"none\" />\n      </g>\n      <circle cx=\"0\" cy=\"0\" r=\"75\" stroke=\"green\" stroke-width=\"2\" />\n    </g>\n    <g>\n      <defs>\n        <path d=\"M0 0-2-2-4-2C-3-1-2 0-1 0-2 0-3 1-4 2L-2 2 0 0\" fill=\"green\" stroke=\"none\" id=\"s-38-4CUz\" transform=\"translate(0 75) scale(3 3)\" />\n      </defs>\n      <g>\n        <use xlink:href=\"#s-38-4CUz\" />\n        <g transform=\"rotate(14.4)\">\n          <use xlink:href=\"#s-38-4CUz\" />\n          <g transform=\"rotate(14.4)\">\n            <use xlink:href=\"#s-38-4CUz\" />\n            <g transform=\"rotate(14.4)\">\n              <use xlink:href=\"#s-38-4CUz\" />\n              <g transform=\"rotate(14.4)\">\n                <use xlink:href=\"#s-38-4CUz\" />\n                <g transform=\"rotate(14.4)\">\n                  <use xlink:href=\"#s-38-4CUz\" />\n                  <g transform=\"rotate(14.4)\">\n                    <use xlink:href=\"#s-38-4CUz\" />\n                    <g transform=\"rotate(14.4)\">\n                      <use xlink:href=\"#s-38-4CUz\" />\n                      <g transform=\"rotate(14.4)\">\n                        <use xlink:href=\"#s-38-4CUz\" />\n                        <g transform=\"rotate(14.4)\">\n                          <use xlink:href=\"#s-38-4CUz\" />\n                          <g transform=\"rotate(14.4)\">\n                            <use xlink:href=\"#s-38-4CUz\" />\n                            <g transform=\"rotate(14.4)\">\n                              <use xlink:href=\"#s-38-4CUz\" />\n                              <g transform=\"rotate(14.4)\">\n                                <use xlink:href=\"#s-38-4CUz\" />\n                                <g transform=\"rotate(14.4)\">\n                                  <use xlink:href=\"#s-38-4CUz\" />\n                                  <g transform=\"rotate(14.4)\">\n                                    <use xlink:href=\"#s-38-4CUz\" />\n                                    <g transform=\"rotate(14.4)\">\n                                      <use xlink:href=\"#s-38-4CUz\" />\n                                      <g transform=\"rotate(14.4)\">\n                                        <use xlink:href=\"#s-38-4CUz\" />\n                                        <g transform=\"rotate(14.4)\">\n                                          <use xlink:href=\"#s-38-4CUz\" />\n                                          <g transform=\"rotate(14.4)\">\n                                            <use xlink:href=\"#s-38-4CUz\" />\n                                            <g transform=\"rotate(14.4)\">\n                                              <use xlink:href=\"#s-38-4CUz\" />\n                                              <g transform=\"rotate(14.4)\">\n                                                <use xlink:href=\"#s-38-4CUz\" />\n                                                <g transform=\"rotate(14.4)\">\n                                                  <use xlink:href=\"#s-38-4CUz\" />\n                                                  <g transform=\"rotate(14.4)\">\n                                                    <use xlink:href=\"#s-38-4CUz\" />\n                                                    <g transform=\"rotate(14.4)\">\n                                                      <use xlink:href=\"#s-38-4CUz\" />\n                                                      <use xlink:href=\"#s-38-4CUz\" transform=\"rotate(14.4)\" />\n                                                    </g>\n                                                  </g>\n                                                </g>\n                                              </g>\n                                            </g>\n                                          </g>\n                                        </g>\n                                      </g>\n                                    </g>\n                                  </g>\n                                </g>\n                              </g>\n                            </g>\n                          </g>\n                        </g>\n                      </g>\n                    </g>\n                  </g>\n                </g>\n              </g>\n            </g>\n          </g>\n        </g>\n      </g>\n    </g>\n  </g>\n</g>\n</svg>\n",
      "text/plain": [
       "SVG:{self.nodes}"
      ]
     },
     "metadata": {},
     "output_type": "display_data"
    }
   ],
   "source": [
    "#Country: Belize\n",
    "#Description: Representing Belizian Flag.\n",
    "#version: 1.0.0\n",
    "#Status: WIP.\n",
    "#Comments: Used svg path editor online for some of the custom shapes at https://yqnn.github.io/svg-path-editor/ .\n",
    "#           The coat of arms needs time and patience to complete.\n",
    "\n",
    "#Individual components of the Belizian flag.\n",
    "red_rectangle = rectangle(w=300, h=300, fill=\"#D90F19\",stroke=\"none\")\n",
    "blue_rectangle = rectangle(w=300, h=225, fill=\"#171696\",stroke=\"none\")\n",
    "base_flag_colors = red_rectangle + blue_rectangle\n",
    "\n",
    "#Coat of arms.\n",
    "white_circle = circle(r=90, fill=\"#FFFFFF\", stroke=\"none\")\n",
    "green_ring = circle(r=75, stroke=\"green\", stroke_width=2)\n",
    "ring_leaf = Shape(\"path\", d=\"M0 0-2-2-4-2C-3-1-2 0-1 0-2 0-3 1-4 2L-2 2 0 0\", fill=\"green\", stroke=\"none\")| scale(3) |translate(y=75) |repeat(25, rotate(14.4))\n",
    "\n",
    "#combine all the various shapes and assign them to a single variable.\n",
    "belizian_flag = base_flag_colors + white_circle + green_ring + ring_leaf\n",
    "\n",
    "#display the flag.\n",
    "show(belizian_flag)"
   ]
  },
  {
   "cell_type": "markdown",
   "metadata": {},
   "source": [
    "# 20) Republic of Benin"
   ]
  },
  {
   "cell_type": "code",
   "execution_count": 66,
   "metadata": {},
   "outputs": [
    {
     "data": {
      "image/svg+xml": "<svg width=\"300\" height=\"300\" viewBox=\"-150 -150 300 300\" fill=\"none\" stroke=\"black\" xmlns=\"http://www.w3.org/2000/svg\" xmlns:xlink=\"http://www.w3.org/1999/xlink\">\n<g transform=\"scale(1 -1)\">\n  <rect x=\"-150.0\" y=\"-150.0\" width=\"300\" height=\"300\" stroke=\"#ddd\" />\n  <line x1=\"-150\" y1=\"0\" x2=\"150\" y2=\"0\" stroke=\"#ddd\" />\n  <line x1=\"0\" y1=\"-150\" x2=\"0\" y2=\"150\" stroke=\"#ddd\" />\n  <g>\n    <g>\n      <rect x=\"-150.0\" y=\"0.0\" width=\"300\" height=\"150\" fill=\"#FCD116\" stroke=\"none\" />\n      <rect x=\"-150.0\" y=\"-150.0\" width=\"300\" height=\"150\" fill=\"#E8112D\" stroke=\"none\" />\n    </g>\n    <rect x=\"-150.0\" y=\"-150.0\" width=\"100\" height=\"300\" fill=\"#008751\" stroke=\"none\" />\n  </g>\n</g>\n</svg>\n",
      "text/plain": [
       "SVG:{self.nodes}"
      ]
     },
     "metadata": {},
     "output_type": "display_data"
    }
   ],
   "source": [
    "#Country: Republic of Benin\n",
    "#Description: Representing Beninese Flag.\n",
    "#version: 1.0.0\n",
    "#Status: Completed.\n",
    "#Comments: \n",
    "\n",
    "#Individual components of the Beninese flag.\n",
    "yellow_rectangle = rectangle(y=75,w=300, h=150, fill=\"#FCD116\",stroke=\"none\")\n",
    "red_rectangle = rectangle(y=-75,w=300, h=150, fill=\"#E8112D\",stroke=\"none\")\n",
    "green_rectangle = rectangle(x=-100,w=100, h=300, fill=\"#008751\", stroke=\"none\")\n",
    "base_flag_colors = yellow_rectangle + red_rectangle + green_rectangle\n",
    "\n",
    "#combine all the various shapes and assign them to a single variable.\n",
    "beninese_flag = base_flag_colors\n",
    "\n",
    "#display the flag.\n",
    "show(beninese_flag)"
   ]
  },
  {
   "cell_type": "markdown",
   "metadata": {},
   "source": [
    "# 21) Kingdom of Bhutan"
   ]
  },
  {
   "cell_type": "code",
   "execution_count": 67,
   "metadata": {},
   "outputs": [
    {
     "data": {
      "image/svg+xml": "<svg width=\"300\" height=\"300\" viewBox=\"-150 -150 300 300\" fill=\"none\" stroke=\"black\" xmlns=\"http://www.w3.org/2000/svg\" xmlns:xlink=\"http://www.w3.org/1999/xlink\">\n<g transform=\"scale(1 -1)\">\n  <rect x=\"-150.0\" y=\"-150.0\" width=\"300\" height=\"300\" stroke=\"#ddd\" />\n  <line x1=\"-150\" y1=\"0\" x2=\"150\" y2=\"0\" stroke=\"#ddd\" />\n  <line x1=\"0\" y1=\"-150\" x2=\"0\" y2=\"150\" stroke=\"#ddd\" />\n  <g>\n    <polygon points=\"-150,-150 -150,150 150,150 -150,-150\" fill=\"#FFCD00\" stroke=\"none\" />\n    <polygon points=\"150,150 150,-150 -150,-150 150,150\" fill=\"#FF6720\" stroke=\"none\" />\n  </g>\n</g>\n</svg>\n",
      "text/plain": [
       "SVG:{self.nodes}"
      ]
     },
     "metadata": {},
     "output_type": "display_data"
    }
   ],
   "source": [
    "#Country: Kingdom of Bhutan\n",
    "#Description: Representing Bhutanese Flag.\n",
    "#version: 1.0.0\n",
    "#Status: WIP.\n",
    "#Comments: The dragon is hard to replicate and needs a lot of time and patience.\n",
    "\n",
    "#Co-ordinate points for the triangles.\n",
    "p1 = point(-150, -150)\n",
    "p2 = point(-150,150)\n",
    "p3 = point(150,150)\n",
    "p4 = point(150,-150)\n",
    "\n",
    "#Individual components of the Bhutanese flag.\n",
    "yellow_triangle = polygon([p1,p2,p3,p1],fill=\"#FFCD00\",stroke=\"none\")\n",
    "orange_triangle = polygon([p3,p4,p1,p3], fill=\"#FF6720\",stroke=\"none\")\n",
    "base_flag_colors = yellow_triangle + orange_triangle\n",
    "\n",
    "#combine all the various shapes and assign them to a single variable.\n",
    "bhutanese_flag = base_flag_colors\n",
    "\n",
    "#display the flag.\n",
    "show(bhutanese_flag)"
   ]
  },
  {
   "cell_type": "markdown",
   "metadata": {},
   "source": [
    "# 22) Plurinational State of Bolivia"
   ]
  },
  {
   "cell_type": "code",
   "execution_count": 68,
   "metadata": {},
   "outputs": [
    {
     "data": {
      "image/svg+xml": "<svg width=\"300\" height=\"300\" viewBox=\"-150 -150 300 300\" fill=\"none\" stroke=\"black\" xmlns=\"http://www.w3.org/2000/svg\" xmlns:xlink=\"http://www.w3.org/1999/xlink\">\n<g transform=\"scale(1 -1)\">\n  <rect x=\"-150.0\" y=\"-150.0\" width=\"300\" height=\"300\" stroke=\"#ddd\" />\n  <line x1=\"-150\" y1=\"0\" x2=\"150\" y2=\"0\" stroke=\"#ddd\" />\n  <line x1=\"0\" y1=\"-150\" x2=\"0\" y2=\"150\" stroke=\"#ddd\" />\n  <g>\n    <g>\n      <rect x=\"-150.0\" y=\"50.0\" width=\"300\" height=\"100\" fill=\"#DA291C\" stroke=\"none\" />\n      <rect x=\"-150.0\" y=\"-50.0\" width=\"300\" height=\"100\" fill=\"#F8E600\" stroke=\"none\" />\n    </g>\n    <rect x=\"-150.0\" y=\"-150.0\" width=\"300\" height=\"100\" fill=\"#007A33\" stroke=\"none\" />\n  </g>\n</g>\n</svg>\n",
      "text/plain": [
       "SVG:{self.nodes}"
      ]
     },
     "metadata": {},
     "output_type": "display_data"
    }
   ],
   "source": [
    "#Country: Plurinational State of Bolivia\n",
    "#Description: Representing Bolivian Flag.\n",
    "#version: 1.0.0\n",
    "#Status: Completed.\n",
    "#Comments: \n",
    "\n",
    "#Individual components of the Bolivian flag.\n",
    "red_rectangle = rectangle(y=100,w=300, h=100, fill=\"#DA291C\",stroke=\"none\")\n",
    "yellow_rectangle = rectangle(w=300, h=100, fill=\"#F8E600\",stroke=\"none\")\n",
    "green_rectangle = rectangle(y=-100,w=300, h=100, fill=\"#007A33\", stroke=\"none\")\n",
    "base_flag_colors = red_rectangle + yellow_rectangle + green_rectangle\n",
    "\n",
    "#combine all the various shapes and assign them to a single variable.\n",
    "bolivian_flag = base_flag_colors\n",
    "\n",
    "#display the flag.\n",
    "show(bolivian_flag)"
   ]
  }
 ],
 "metadata": {
  "interpreter": {
   "hash": "c4168284543942be8a078af5ed41c0edda5aff5f69fa4e2a9af82392fed9c72d"
  },
  "kernelspec": {
   "display_name": "Python 3.10.2 64-bit",
   "language": "python",
   "name": "python3"
  },
  "language_info": {
   "codemirror_mode": {
    "name": "ipython",
    "version": 3
   },
   "file_extension": ".py",
   "mimetype": "text/x-python",
   "name": "python",
   "nbconvert_exporter": "python",
   "pygments_lexer": "ipython3",
   "version": "3.10.2"
  },
  "orig_nbformat": 4
 },
 "nbformat": 4,
 "nbformat_minor": 2
}
